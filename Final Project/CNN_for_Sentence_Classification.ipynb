{
  "nbformat": 4,
  "nbformat_minor": 0,
  "metadata": {
    "colab": {
      "name": "CNN_for_Sentence_Classification.ipynb",
      "provenance": [],
      "collapsed_sections": []
    },
    "kernelspec": {
      "name": "python3",
      "display_name": "Python 3"
    },
    "widgets": {
      "application/vnd.jupyter.widget-state+json": {
        "2cf55dd3f6e2463c9a72bb38f5e19351": {
          "model_module": "@jupyter-widgets/controls",
          "model_name": "HBoxModel",
          "model_module_version": "1.5.0",
          "state": {
            "_dom_classes": [],
            "_model_module": "@jupyter-widgets/controls",
            "_model_module_version": "1.5.0",
            "_model_name": "HBoxModel",
            "_view_count": null,
            "_view_module": "@jupyter-widgets/controls",
            "_view_module_version": "1.5.0",
            "_view_name": "HBoxView",
            "box_style": "",
            "children": [
              "IPY_MODEL_c9cbce4561c0447f945c71c58e035b28",
              "IPY_MODEL_b9701d695eaf4ccaa4099b428a2e444e",
              "IPY_MODEL_8add09b0691c4f3b91722bcc437b9ffe"
            ],
            "layout": "IPY_MODEL_0596659f95604194814e9c7d7d435deb"
          }
        },
        "c9cbce4561c0447f945c71c58e035b28": {
          "model_module": "@jupyter-widgets/controls",
          "model_name": "HTMLModel",
          "model_module_version": "1.5.0",
          "state": {
            "_dom_classes": [],
            "_model_module": "@jupyter-widgets/controls",
            "_model_module_version": "1.5.0",
            "_model_name": "HTMLModel",
            "_view_count": null,
            "_view_module": "@jupyter-widgets/controls",
            "_view_module_version": "1.5.0",
            "_view_name": "HTMLView",
            "description": "",
            "description_tooltip": null,
            "layout": "IPY_MODEL_ce14386fe83843b4be11250bdfb4f420",
            "placeholder": "​",
            "style": "IPY_MODEL_7acf242a3143470ea6c5d7e6196dd55d",
            "value": ""
          }
        },
        "b9701d695eaf4ccaa4099b428a2e444e": {
          "model_module": "@jupyter-widgets/controls",
          "model_name": "FloatProgressModel",
          "model_module_version": "1.5.0",
          "state": {
            "_dom_classes": [],
            "_model_module": "@jupyter-widgets/controls",
            "_model_module_version": "1.5.0",
            "_model_name": "FloatProgressModel",
            "_view_count": null,
            "_view_module": "@jupyter-widgets/controls",
            "_view_module_version": "1.5.0",
            "_view_name": "ProgressView",
            "bar_style": "success",
            "description": "",
            "description_tooltip": null,
            "layout": "IPY_MODEL_9a1d34e585e045959d26ec2c6f0bb05a",
            "max": 1,
            "min": 0,
            "orientation": "horizontal",
            "style": "IPY_MODEL_6c1cd46b4d7a474b9c27159173450a66",
            "value": 1
          }
        },
        "8add09b0691c4f3b91722bcc437b9ffe": {
          "model_module": "@jupyter-widgets/controls",
          "model_name": "HTMLModel",
          "model_module_version": "1.5.0",
          "state": {
            "_dom_classes": [],
            "_model_module": "@jupyter-widgets/controls",
            "_model_module_version": "1.5.0",
            "_model_name": "HTMLModel",
            "_view_count": null,
            "_view_module": "@jupyter-widgets/controls",
            "_view_module_version": "1.5.0",
            "_view_name": "HTMLView",
            "description": "",
            "description_tooltip": null,
            "layout": "IPY_MODEL_62af42e6c91f4ac79336b58c0dda9ab8",
            "placeholder": "​",
            "style": "IPY_MODEL_1d37c7e93a1f49a88a8969b63ee3d9b1",
            "value": " 1999995/? [00:39&lt;00:00, 49945.04it/s]"
          }
        },
        "0596659f95604194814e9c7d7d435deb": {
          "model_module": "@jupyter-widgets/base",
          "model_name": "LayoutModel",
          "model_module_version": "1.2.0",
          "state": {
            "_model_module": "@jupyter-widgets/base",
            "_model_module_version": "1.2.0",
            "_model_name": "LayoutModel",
            "_view_count": null,
            "_view_module": "@jupyter-widgets/base",
            "_view_module_version": "1.2.0",
            "_view_name": "LayoutView",
            "align_content": null,
            "align_items": null,
            "align_self": null,
            "border": null,
            "bottom": null,
            "display": null,
            "flex": null,
            "flex_flow": null,
            "grid_area": null,
            "grid_auto_columns": null,
            "grid_auto_flow": null,
            "grid_auto_rows": null,
            "grid_column": null,
            "grid_gap": null,
            "grid_row": null,
            "grid_template_areas": null,
            "grid_template_columns": null,
            "grid_template_rows": null,
            "height": null,
            "justify_content": null,
            "justify_items": null,
            "left": null,
            "margin": null,
            "max_height": null,
            "max_width": null,
            "min_height": null,
            "min_width": null,
            "object_fit": null,
            "object_position": null,
            "order": null,
            "overflow": null,
            "overflow_x": null,
            "overflow_y": null,
            "padding": null,
            "right": null,
            "top": null,
            "visibility": null,
            "width": null
          }
        },
        "ce14386fe83843b4be11250bdfb4f420": {
          "model_module": "@jupyter-widgets/base",
          "model_name": "LayoutModel",
          "model_module_version": "1.2.0",
          "state": {
            "_model_module": "@jupyter-widgets/base",
            "_model_module_version": "1.2.0",
            "_model_name": "LayoutModel",
            "_view_count": null,
            "_view_module": "@jupyter-widgets/base",
            "_view_module_version": "1.2.0",
            "_view_name": "LayoutView",
            "align_content": null,
            "align_items": null,
            "align_self": null,
            "border": null,
            "bottom": null,
            "display": null,
            "flex": null,
            "flex_flow": null,
            "grid_area": null,
            "grid_auto_columns": null,
            "grid_auto_flow": null,
            "grid_auto_rows": null,
            "grid_column": null,
            "grid_gap": null,
            "grid_row": null,
            "grid_template_areas": null,
            "grid_template_columns": null,
            "grid_template_rows": null,
            "height": null,
            "justify_content": null,
            "justify_items": null,
            "left": null,
            "margin": null,
            "max_height": null,
            "max_width": null,
            "min_height": null,
            "min_width": null,
            "object_fit": null,
            "object_position": null,
            "order": null,
            "overflow": null,
            "overflow_x": null,
            "overflow_y": null,
            "padding": null,
            "right": null,
            "top": null,
            "visibility": null,
            "width": null
          }
        },
        "7acf242a3143470ea6c5d7e6196dd55d": {
          "model_module": "@jupyter-widgets/controls",
          "model_name": "DescriptionStyleModel",
          "model_module_version": "1.5.0",
          "state": {
            "_model_module": "@jupyter-widgets/controls",
            "_model_module_version": "1.5.0",
            "_model_name": "DescriptionStyleModel",
            "_view_count": null,
            "_view_module": "@jupyter-widgets/base",
            "_view_module_version": "1.2.0",
            "_view_name": "StyleView",
            "description_width": ""
          }
        },
        "9a1d34e585e045959d26ec2c6f0bb05a": {
          "model_module": "@jupyter-widgets/base",
          "model_name": "LayoutModel",
          "model_module_version": "1.2.0",
          "state": {
            "_model_module": "@jupyter-widgets/base",
            "_model_module_version": "1.2.0",
            "_model_name": "LayoutModel",
            "_view_count": null,
            "_view_module": "@jupyter-widgets/base",
            "_view_module_version": "1.2.0",
            "_view_name": "LayoutView",
            "align_content": null,
            "align_items": null,
            "align_self": null,
            "border": null,
            "bottom": null,
            "display": null,
            "flex": null,
            "flex_flow": null,
            "grid_area": null,
            "grid_auto_columns": null,
            "grid_auto_flow": null,
            "grid_auto_rows": null,
            "grid_column": null,
            "grid_gap": null,
            "grid_row": null,
            "grid_template_areas": null,
            "grid_template_columns": null,
            "grid_template_rows": null,
            "height": null,
            "justify_content": null,
            "justify_items": null,
            "left": null,
            "margin": null,
            "max_height": null,
            "max_width": null,
            "min_height": null,
            "min_width": null,
            "object_fit": null,
            "object_position": null,
            "order": null,
            "overflow": null,
            "overflow_x": null,
            "overflow_y": null,
            "padding": null,
            "right": null,
            "top": null,
            "visibility": null,
            "width": "20px"
          }
        },
        "6c1cd46b4d7a474b9c27159173450a66": {
          "model_module": "@jupyter-widgets/controls",
          "model_name": "ProgressStyleModel",
          "model_module_version": "1.5.0",
          "state": {
            "_model_module": "@jupyter-widgets/controls",
            "_model_module_version": "1.5.0",
            "_model_name": "ProgressStyleModel",
            "_view_count": null,
            "_view_module": "@jupyter-widgets/base",
            "_view_module_version": "1.2.0",
            "_view_name": "StyleView",
            "bar_color": null,
            "description_width": ""
          }
        },
        "62af42e6c91f4ac79336b58c0dda9ab8": {
          "model_module": "@jupyter-widgets/base",
          "model_name": "LayoutModel",
          "model_module_version": "1.2.0",
          "state": {
            "_model_module": "@jupyter-widgets/base",
            "_model_module_version": "1.2.0",
            "_model_name": "LayoutModel",
            "_view_count": null,
            "_view_module": "@jupyter-widgets/base",
            "_view_module_version": "1.2.0",
            "_view_name": "LayoutView",
            "align_content": null,
            "align_items": null,
            "align_self": null,
            "border": null,
            "bottom": null,
            "display": null,
            "flex": null,
            "flex_flow": null,
            "grid_area": null,
            "grid_auto_columns": null,
            "grid_auto_flow": null,
            "grid_auto_rows": null,
            "grid_column": null,
            "grid_gap": null,
            "grid_row": null,
            "grid_template_areas": null,
            "grid_template_columns": null,
            "grid_template_rows": null,
            "height": null,
            "justify_content": null,
            "justify_items": null,
            "left": null,
            "margin": null,
            "max_height": null,
            "max_width": null,
            "min_height": null,
            "min_width": null,
            "object_fit": null,
            "object_position": null,
            "order": null,
            "overflow": null,
            "overflow_x": null,
            "overflow_y": null,
            "padding": null,
            "right": null,
            "top": null,
            "visibility": null,
            "width": null
          }
        },
        "1d37c7e93a1f49a88a8969b63ee3d9b1": {
          "model_module": "@jupyter-widgets/controls",
          "model_name": "DescriptionStyleModel",
          "model_module_version": "1.5.0",
          "state": {
            "_model_module": "@jupyter-widgets/controls",
            "_model_module_version": "1.5.0",
            "_model_name": "DescriptionStyleModel",
            "_view_count": null,
            "_view_module": "@jupyter-widgets/base",
            "_view_module_version": "1.2.0",
            "_view_name": "StyleView",
            "description_width": ""
          }
        }
      }
    },
    "accelerator": "GPU"
  },
  "cells": [
    {
      "cell_type": "markdown",
      "metadata": {
        "id": "XF3Q3FXQ9lcf"
      },
      "source": [
        "# Final Project - Team 10\n",
        "**Convolutional Neural Networks (CNN) for sentiment analysis**\n",
        "\n",
        "Source:\n",
        "[![Portfolio](https://img.shields.io/badge/Portfolio-chriskhanhtran.github.io-blue?logo=GitHub)](https://chriskhanhtran.github.io/)"
      ]
    },
    {
      "cell_type": "markdown",
      "metadata": {
        "id": "M-FOBoaCNiQr"
      },
      "source": [
        "## Introduction"
      ]
    },
    {
      "cell_type": "markdown",
      "metadata": {
        "id": "YK2TXO_pmGgX"
      },
      "source": [
        "**Convolutional Neural Networks (CNN)** were originally invented for computer vision (CV) and now are the building block of state-of-the-art CV models. One of the earliest applications of CNN in Natural Language Processing (NLP) was introduced in the paper ***Convolutional Neural Networks for Sentence Classification*** (Kim, 2014). With the same idea as in computer vision, CNN model is used as an feature extractor that encodes semantic features of sentences before these features are fed to a classifier.\n",
        "\n",
        "\n",
        "With only a simple one-layer CNN trained on top of pretrained word vectors and little hyperparameter tuning, the model achieves excellent results on multiple sentence-level classification tasks. CNN models are now used widely other NLP tasks such as translation or question answering as a part of a more complex architecture.\n",
        "\n",
        "This project will cover:\n",
        "- Tokenizing and building vocabuilary from text data\n",
        "- Loading pretrained word2vec/fastText word vectors and creating embedding layer for fine-tuning\n",
        "- Building and training CNN model with PyTorch\n",
        "- Advice for practitioners\n",
        "- Bonus: Using Skorch as a scikit-like wrapper for PyTorch's Deep Learning models\n",
        "\n",
        "**Reference:**\n",
        "-  [Convolutional Neural Networks for Sentence Classification](https://arxiv.org/abs/1408.5882) (Kim, 2014).\n",
        "- [A Sensitivity Analysis of (and Practitioners' Guide to) Convolutional Neural Networks for Sentence Classification](https://arxiv.org/abs/1510.03820) (Zhang, 2015).\n",
        "- [Advances in Pre-Training Distributed Word Representations](https://arxiv.org/abs/1712.09405) (Mikolov, 2018).\n",
        "\n"
      ]
    },
    {
      "cell_type": "markdown",
      "metadata": {
        "id": "LY2qU-O5NmcZ"
      },
      "source": [
        "## 1. Set up"
      ]
    },
    {
      "cell_type": "markdown",
      "metadata": {
        "id": "pZ8Gv3FpmPf-"
      },
      "source": [
        "### 1.1. Import Libraries"
      ]
    },
    {
      "cell_type": "code",
      "metadata": {
        "id": "cVWONqDLmhOw",
        "outputId": "39ec5bac-135b-452d-888e-7b5b566258f0",
        "colab": {
          "base_uri": "https://localhost:8080/"
        }
      },
      "source": [
        "import os\n",
        "import re\n",
        "from tqdm import tqdm\n",
        "import numpy as np\n",
        "import pandas as pd\n",
        "import nltk\n",
        "nltk.download(\"all\")\n",
        "import matplotlib.pyplot as plt\n",
        "import torch\n",
        "\n",
        "%matplotlib inline"
      ],
      "execution_count": null,
      "outputs": [
        {
          "output_type": "stream",
          "name": "stdout",
          "text": [
            "[nltk_data] Downloading collection 'all'\n",
            "[nltk_data]    | \n",
            "[nltk_data]    | Downloading package abc to /root/nltk_data...\n",
            "[nltk_data]    |   Unzipping corpora/abc.zip.\n",
            "[nltk_data]    | Downloading package alpino to /root/nltk_data...\n",
            "[nltk_data]    |   Unzipping corpora/alpino.zip.\n",
            "[nltk_data]    | Downloading package averaged_perceptron_tagger to\n",
            "[nltk_data]    |     /root/nltk_data...\n",
            "[nltk_data]    |   Unzipping taggers/averaged_perceptron_tagger.zip.\n",
            "[nltk_data]    | Downloading package averaged_perceptron_tagger_ru to\n",
            "[nltk_data]    |     /root/nltk_data...\n",
            "[nltk_data]    |   Unzipping\n",
            "[nltk_data]    |       taggers/averaged_perceptron_tagger_ru.zip.\n",
            "[nltk_data]    | Downloading package basque_grammars to\n",
            "[nltk_data]    |     /root/nltk_data...\n",
            "[nltk_data]    |   Unzipping grammars/basque_grammars.zip.\n",
            "[nltk_data]    | Downloading package biocreative_ppi to\n",
            "[nltk_data]    |     /root/nltk_data...\n",
            "[nltk_data]    |   Unzipping corpora/biocreative_ppi.zip.\n",
            "[nltk_data]    | Downloading package bllip_wsj_no_aux to\n",
            "[nltk_data]    |     /root/nltk_data...\n",
            "[nltk_data]    |   Unzipping models/bllip_wsj_no_aux.zip.\n",
            "[nltk_data]    | Downloading package book_grammars to\n",
            "[nltk_data]    |     /root/nltk_data...\n",
            "[nltk_data]    |   Unzipping grammars/book_grammars.zip.\n",
            "[nltk_data]    | Downloading package brown to /root/nltk_data...\n",
            "[nltk_data]    |   Unzipping corpora/brown.zip.\n",
            "[nltk_data]    | Downloading package brown_tei to /root/nltk_data...\n",
            "[nltk_data]    |   Unzipping corpora/brown_tei.zip.\n",
            "[nltk_data]    | Downloading package cess_cat to /root/nltk_data...\n",
            "[nltk_data]    |   Unzipping corpora/cess_cat.zip.\n",
            "[nltk_data]    | Downloading package cess_esp to /root/nltk_data...\n",
            "[nltk_data]    |   Unzipping corpora/cess_esp.zip.\n",
            "[nltk_data]    | Downloading package chat80 to /root/nltk_data...\n",
            "[nltk_data]    |   Unzipping corpora/chat80.zip.\n",
            "[nltk_data]    | Downloading package city_database to\n",
            "[nltk_data]    |     /root/nltk_data...\n",
            "[nltk_data]    |   Unzipping corpora/city_database.zip.\n",
            "[nltk_data]    | Downloading package cmudict to /root/nltk_data...\n",
            "[nltk_data]    |   Unzipping corpora/cmudict.zip.\n",
            "[nltk_data]    | Downloading package comparative_sentences to\n",
            "[nltk_data]    |     /root/nltk_data...\n",
            "[nltk_data]    |   Unzipping corpora/comparative_sentences.zip.\n",
            "[nltk_data]    | Downloading package comtrans to /root/nltk_data...\n",
            "[nltk_data]    | Downloading package conll2000 to /root/nltk_data...\n",
            "[nltk_data]    |   Unzipping corpora/conll2000.zip.\n",
            "[nltk_data]    | Downloading package conll2002 to /root/nltk_data...\n",
            "[nltk_data]    |   Unzipping corpora/conll2002.zip.\n",
            "[nltk_data]    | Downloading package conll2007 to /root/nltk_data...\n",
            "[nltk_data]    | Downloading package crubadan to /root/nltk_data...\n",
            "[nltk_data]    |   Unzipping corpora/crubadan.zip.\n",
            "[nltk_data]    | Downloading package dependency_treebank to\n",
            "[nltk_data]    |     /root/nltk_data...\n",
            "[nltk_data]    |   Unzipping corpora/dependency_treebank.zip.\n",
            "[nltk_data]    | Downloading package dolch to /root/nltk_data...\n",
            "[nltk_data]    |   Unzipping corpora/dolch.zip.\n",
            "[nltk_data]    | Downloading package europarl_raw to\n",
            "[nltk_data]    |     /root/nltk_data...\n",
            "[nltk_data]    |   Unzipping corpora/europarl_raw.zip.\n",
            "[nltk_data]    | Downloading package extended_omw to\n",
            "[nltk_data]    |     /root/nltk_data...\n",
            "[nltk_data]    |   Unzipping corpora/extended_omw.zip.\n",
            "[nltk_data]    | Downloading package floresta to /root/nltk_data...\n",
            "[nltk_data]    |   Unzipping corpora/floresta.zip.\n",
            "[nltk_data]    | Downloading package framenet_v15 to\n",
            "[nltk_data]    |     /root/nltk_data...\n",
            "[nltk_data]    |   Unzipping corpora/framenet_v15.zip.\n",
            "[nltk_data]    | Downloading package framenet_v17 to\n",
            "[nltk_data]    |     /root/nltk_data...\n",
            "[nltk_data]    |   Unzipping corpora/framenet_v17.zip.\n",
            "[nltk_data]    | Downloading package gazetteers to /root/nltk_data...\n",
            "[nltk_data]    |   Unzipping corpora/gazetteers.zip.\n",
            "[nltk_data]    | Downloading package genesis to /root/nltk_data...\n",
            "[nltk_data]    |   Unzipping corpora/genesis.zip.\n",
            "[nltk_data]    | Downloading package gutenberg to /root/nltk_data...\n",
            "[nltk_data]    |   Unzipping corpora/gutenberg.zip.\n",
            "[nltk_data]    | Downloading package ieer to /root/nltk_data...\n",
            "[nltk_data]    |   Unzipping corpora/ieer.zip.\n",
            "[nltk_data]    | Downloading package inaugural to /root/nltk_data...\n",
            "[nltk_data]    |   Unzipping corpora/inaugural.zip.\n",
            "[nltk_data]    | Downloading package indian to /root/nltk_data...\n",
            "[nltk_data]    |   Unzipping corpora/indian.zip.\n",
            "[nltk_data]    | Downloading package jeita to /root/nltk_data...\n",
            "[nltk_data]    | Downloading package kimmo to /root/nltk_data...\n",
            "[nltk_data]    |   Unzipping corpora/kimmo.zip.\n",
            "[nltk_data]    | Downloading package knbc to /root/nltk_data...\n",
            "[nltk_data]    | Downloading package large_grammars to\n",
            "[nltk_data]    |     /root/nltk_data...\n",
            "[nltk_data]    |   Unzipping grammars/large_grammars.zip.\n",
            "[nltk_data]    | Downloading package lin_thesaurus to\n",
            "[nltk_data]    |     /root/nltk_data...\n",
            "[nltk_data]    |   Unzipping corpora/lin_thesaurus.zip.\n",
            "[nltk_data]    | Downloading package mac_morpho to /root/nltk_data...\n",
            "[nltk_data]    |   Unzipping corpora/mac_morpho.zip.\n",
            "[nltk_data]    | Downloading package machado to /root/nltk_data...\n",
            "[nltk_data]    | Downloading package masc_tagged to /root/nltk_data...\n",
            "[nltk_data]    | Downloading package maxent_ne_chunker to\n",
            "[nltk_data]    |     /root/nltk_data...\n",
            "[nltk_data]    |   Unzipping chunkers/maxent_ne_chunker.zip.\n",
            "[nltk_data]    | Downloading package maxent_treebank_pos_tagger to\n",
            "[nltk_data]    |     /root/nltk_data...\n",
            "[nltk_data]    |   Unzipping taggers/maxent_treebank_pos_tagger.zip.\n",
            "[nltk_data]    | Downloading package moses_sample to\n",
            "[nltk_data]    |     /root/nltk_data...\n",
            "[nltk_data]    |   Unzipping models/moses_sample.zip.\n",
            "[nltk_data]    | Downloading package movie_reviews to\n",
            "[nltk_data]    |     /root/nltk_data...\n",
            "[nltk_data]    |   Unzipping corpora/movie_reviews.zip.\n",
            "[nltk_data]    | Downloading package mte_teip5 to /root/nltk_data...\n",
            "[nltk_data]    |   Unzipping corpora/mte_teip5.zip.\n",
            "[nltk_data]    | Downloading package mwa_ppdb to /root/nltk_data...\n",
            "[nltk_data]    |   Unzipping misc/mwa_ppdb.zip.\n",
            "[nltk_data]    | Downloading package names to /root/nltk_data...\n",
            "[nltk_data]    |   Unzipping corpora/names.zip.\n",
            "[nltk_data]    | Downloading package nombank.1.0 to /root/nltk_data...\n",
            "[nltk_data]    | Downloading package nonbreaking_prefixes to\n",
            "[nltk_data]    |     /root/nltk_data...\n",
            "[nltk_data]    |   Unzipping corpora/nonbreaking_prefixes.zip.\n",
            "[nltk_data]    | Downloading package nps_chat to /root/nltk_data...\n",
            "[nltk_data]    |   Unzipping corpora/nps_chat.zip.\n",
            "[nltk_data]    | Downloading package omw to /root/nltk_data...\n",
            "[nltk_data]    |   Unzipping corpora/omw.zip.\n",
            "[nltk_data]    | Downloading package omw-1.4 to /root/nltk_data...\n",
            "[nltk_data]    |   Unzipping corpora/omw-1.4.zip.\n",
            "[nltk_data]    | Downloading package opinion_lexicon to\n",
            "[nltk_data]    |     /root/nltk_data...\n",
            "[nltk_data]    |   Unzipping corpora/opinion_lexicon.zip.\n",
            "[nltk_data]    | Downloading package panlex_swadesh to\n",
            "[nltk_data]    |     /root/nltk_data...\n",
            "[nltk_data]    | Downloading package paradigms to /root/nltk_data...\n",
            "[nltk_data]    |   Unzipping corpora/paradigms.zip.\n",
            "[nltk_data]    | Downloading package pe08 to /root/nltk_data...\n",
            "[nltk_data]    |   Unzipping corpora/pe08.zip.\n",
            "[nltk_data]    | Downloading package perluniprops to\n",
            "[nltk_data]    |     /root/nltk_data...\n",
            "[nltk_data]    |   Unzipping misc/perluniprops.zip.\n",
            "[nltk_data]    | Downloading package pil to /root/nltk_data...\n",
            "[nltk_data]    |   Unzipping corpora/pil.zip.\n",
            "[nltk_data]    | Downloading package pl196x to /root/nltk_data...\n",
            "[nltk_data]    |   Unzipping corpora/pl196x.zip.\n",
            "[nltk_data]    | Downloading package porter_test to /root/nltk_data...\n",
            "[nltk_data]    |   Unzipping stemmers/porter_test.zip.\n",
            "[nltk_data]    | Downloading package ppattach to /root/nltk_data...\n",
            "[nltk_data]    |   Unzipping corpora/ppattach.zip.\n",
            "[nltk_data]    | Downloading package problem_reports to\n",
            "[nltk_data]    |     /root/nltk_data...\n",
            "[nltk_data]    |   Unzipping corpora/problem_reports.zip.\n",
            "[nltk_data]    | Downloading package product_reviews_1 to\n",
            "[nltk_data]    |     /root/nltk_data...\n",
            "[nltk_data]    |   Unzipping corpora/product_reviews_1.zip.\n",
            "[nltk_data]    | Downloading package product_reviews_2 to\n",
            "[nltk_data]    |     /root/nltk_data...\n",
            "[nltk_data]    |   Unzipping corpora/product_reviews_2.zip.\n",
            "[nltk_data]    | Downloading package propbank to /root/nltk_data...\n",
            "[nltk_data]    | Downloading package pros_cons to /root/nltk_data...\n",
            "[nltk_data]    |   Unzipping corpora/pros_cons.zip.\n",
            "[nltk_data]    | Downloading package ptb to /root/nltk_data...\n",
            "[nltk_data]    |   Unzipping corpora/ptb.zip.\n",
            "[nltk_data]    | Downloading package punkt to /root/nltk_data...\n",
            "[nltk_data]    |   Unzipping tokenizers/punkt.zip.\n",
            "[nltk_data]    | Downloading package qc to /root/nltk_data...\n",
            "[nltk_data]    |   Unzipping corpora/qc.zip.\n",
            "[nltk_data]    | Downloading package reuters to /root/nltk_data...\n",
            "[nltk_data]    | Downloading package rslp to /root/nltk_data...\n",
            "[nltk_data]    |   Unzipping stemmers/rslp.zip.\n",
            "[nltk_data]    | Downloading package rte to /root/nltk_data...\n",
            "[nltk_data]    |   Unzipping corpora/rte.zip.\n",
            "[nltk_data]    | Downloading package sample_grammars to\n",
            "[nltk_data]    |     /root/nltk_data...\n",
            "[nltk_data]    |   Unzipping grammars/sample_grammars.zip.\n",
            "[nltk_data]    | Downloading package semcor to /root/nltk_data...\n",
            "[nltk_data]    | Downloading package senseval to /root/nltk_data...\n",
            "[nltk_data]    |   Unzipping corpora/senseval.zip.\n",
            "[nltk_data]    | Downloading package sentence_polarity to\n",
            "[nltk_data]    |     /root/nltk_data...\n",
            "[nltk_data]    |   Unzipping corpora/sentence_polarity.zip.\n",
            "[nltk_data]    | Downloading package sentiwordnet to\n",
            "[nltk_data]    |     /root/nltk_data...\n",
            "[nltk_data]    |   Unzipping corpora/sentiwordnet.zip.\n",
            "[nltk_data]    | Downloading package shakespeare to /root/nltk_data...\n",
            "[nltk_data]    |   Unzipping corpora/shakespeare.zip.\n",
            "[nltk_data]    | Downloading package sinica_treebank to\n",
            "[nltk_data]    |     /root/nltk_data...\n",
            "[nltk_data]    |   Unzipping corpora/sinica_treebank.zip.\n",
            "[nltk_data]    | Downloading package smultron to /root/nltk_data...\n",
            "[nltk_data]    |   Unzipping corpora/smultron.zip.\n",
            "[nltk_data]    | Downloading package snowball_data to\n",
            "[nltk_data]    |     /root/nltk_data...\n",
            "[nltk_data]    | Downloading package spanish_grammars to\n",
            "[nltk_data]    |     /root/nltk_data...\n",
            "[nltk_data]    |   Unzipping grammars/spanish_grammars.zip.\n",
            "[nltk_data]    | Downloading package state_union to /root/nltk_data...\n",
            "[nltk_data]    |   Unzipping corpora/state_union.zip.\n",
            "[nltk_data]    | Downloading package stopwords to /root/nltk_data...\n",
            "[nltk_data]    |   Unzipping corpora/stopwords.zip.\n",
            "[nltk_data]    | Downloading package subjectivity to\n",
            "[nltk_data]    |     /root/nltk_data...\n",
            "[nltk_data]    |   Unzipping corpora/subjectivity.zip.\n",
            "[nltk_data]    | Downloading package swadesh to /root/nltk_data...\n",
            "[nltk_data]    |   Unzipping corpora/swadesh.zip.\n",
            "[nltk_data]    | Downloading package switchboard to /root/nltk_data...\n",
            "[nltk_data]    |   Unzipping corpora/switchboard.zip.\n",
            "[nltk_data]    | Downloading package tagsets to /root/nltk_data...\n",
            "[nltk_data]    |   Unzipping help/tagsets.zip.\n",
            "[nltk_data]    | Downloading package timit to /root/nltk_data...\n",
            "[nltk_data]    |   Unzipping corpora/timit.zip.\n",
            "[nltk_data]    | Downloading package toolbox to /root/nltk_data...\n",
            "[nltk_data]    |   Unzipping corpora/toolbox.zip.\n",
            "[nltk_data]    | Downloading package treebank to /root/nltk_data...\n",
            "[nltk_data]    |   Unzipping corpora/treebank.zip.\n",
            "[nltk_data]    | Downloading package twitter_samples to\n",
            "[nltk_data]    |     /root/nltk_data...\n",
            "[nltk_data]    |   Unzipping corpora/twitter_samples.zip.\n",
            "[nltk_data]    | Downloading package udhr to /root/nltk_data...\n",
            "[nltk_data]    |   Unzipping corpora/udhr.zip.\n",
            "[nltk_data]    | Downloading package udhr2 to /root/nltk_data...\n",
            "[nltk_data]    |   Unzipping corpora/udhr2.zip.\n",
            "[nltk_data]    | Downloading package unicode_samples to\n",
            "[nltk_data]    |     /root/nltk_data...\n",
            "[nltk_data]    |   Unzipping corpora/unicode_samples.zip.\n",
            "[nltk_data]    | Downloading package universal_tagset to\n",
            "[nltk_data]    |     /root/nltk_data...\n",
            "[nltk_data]    |   Unzipping taggers/universal_tagset.zip.\n",
            "[nltk_data]    | Downloading package universal_treebanks_v20 to\n",
            "[nltk_data]    |     /root/nltk_data...\n",
            "[nltk_data]    | Downloading package vader_lexicon to\n",
            "[nltk_data]    |     /root/nltk_data...\n",
            "[nltk_data]    | Downloading package verbnet to /root/nltk_data...\n",
            "[nltk_data]    |   Unzipping corpora/verbnet.zip.\n",
            "[nltk_data]    | Downloading package verbnet3 to /root/nltk_data...\n",
            "[nltk_data]    |   Unzipping corpora/verbnet3.zip.\n",
            "[nltk_data]    | Downloading package webtext to /root/nltk_data...\n",
            "[nltk_data]    |   Unzipping corpora/webtext.zip.\n",
            "[nltk_data]    | Downloading package wmt15_eval to /root/nltk_data...\n",
            "[nltk_data]    |   Unzipping models/wmt15_eval.zip.\n",
            "[nltk_data]    | Downloading package word2vec_sample to\n",
            "[nltk_data]    |     /root/nltk_data...\n",
            "[nltk_data]    |   Unzipping models/word2vec_sample.zip.\n",
            "[nltk_data]    | Downloading package wordnet to /root/nltk_data...\n",
            "[nltk_data]    |   Unzipping corpora/wordnet.zip.\n",
            "[nltk_data]    | Downloading package wordnet2021 to /root/nltk_data...\n",
            "[nltk_data]    |   Unzipping corpora/wordnet2021.zip.\n",
            "[nltk_data]    | Downloading package wordnet31 to /root/nltk_data...\n",
            "[nltk_data]    |   Unzipping corpora/wordnet31.zip.\n",
            "[nltk_data]    | Downloading package wordnet_ic to /root/nltk_data...\n",
            "[nltk_data]    |   Unzipping corpora/wordnet_ic.zip.\n",
            "[nltk_data]    | Downloading package words to /root/nltk_data...\n",
            "[nltk_data]    |   Unzipping corpora/words.zip.\n",
            "[nltk_data]    | Downloading package ycoe to /root/nltk_data...\n",
            "[nltk_data]    |   Unzipping corpora/ycoe.zip.\n",
            "[nltk_data]    | \n",
            "[nltk_data]  Done downloading collection all\n"
          ]
        }
      ]
    },
    {
      "cell_type": "markdown",
      "metadata": {
        "id": "rqGw820-mqE7"
      },
      "source": [
        "### 1.2. Download Datasets"
      ]
    },
    {
      "cell_type": "markdown",
      "metadata": {
        "id": "x4iNtHw8NG6Q"
      },
      "source": [
        "The dataset we will use is Movie Review (MR), a sentence polarity dataset from (Pang and Lee, 2005). The dataset has 5331 positive and 5331 negative processed sentences/snippets."
      ]
    },
    {
      "cell_type": "code",
      "metadata": {
        "id": "9wLTmcbImt6b",
        "outputId": "bd8cf815-204e-488c-e2d7-a3216ca48538",
        "colab": {
          "base_uri": "https://localhost:8080/"
        }
      },
      "source": [
        "URL = 'https://www.cs.cornell.edu/people/pabo/movie-review-data/rt-polaritydata.tar.gz'\n",
        "# Download Datasets\n",
        "!wget -P 'Data/' $URL\n",
        "# Unzip\n",
        "!tar xvzf 'Data/rt-polaritydata.tar.gz' -C 'Data/'"
      ],
      "execution_count": null,
      "outputs": [
        {
          "output_type": "stream",
          "name": "stdout",
          "text": [
            "--2022-06-09 13:08:08--  https://www.cs.cornell.edu/people/pabo/movie-review-data/rt-polaritydata.tar.gz\n",
            "Resolving www.cs.cornell.edu (www.cs.cornell.edu)... 132.236.207.36\n",
            "Connecting to www.cs.cornell.edu (www.cs.cornell.edu)|132.236.207.36|:443... connected.\n",
            "HTTP request sent, awaiting response... 200 OK\n",
            "Length: 487770 (476K) [application/x-gzip]\n",
            "Saving to: ‘Data/rt-polaritydata.tar.gz’\n",
            "\n",
            "rt-polaritydata.tar 100%[===================>] 476.34K  1.34MB/s    in 0.3s    \n",
            "\n",
            "2022-06-09 13:08:09 (1.34 MB/s) - ‘Data/rt-polaritydata.tar.gz’ saved [487770/487770]\n",
            "\n",
            "rt-polaritydata.README.1.0.txt\n",
            "rt-polaritydata/rt-polarity.neg\n",
            "rt-polaritydata/rt-polarity.pos\n"
          ]
        }
      ]
    },
    {
      "cell_type": "code",
      "metadata": {
        "id": "y0jDxQUCtxwz"
      },
      "source": [
        "def load_text(path):\n",
        "    \"\"\"Load text data, lowercase text and save to a list.\"\"\"\n",
        "\n",
        "    with open(path, 'rb') as f:\n",
        "        texts = []\n",
        "        for line in f:\n",
        "            texts.append(line.decode(errors='ignore').lower().strip())\n",
        "\n",
        "    return texts\n",
        "\n",
        "# Load files\n",
        "neg_text = load_text('Data/rt-polaritydata/rt-polarity.neg')\n",
        "pos_text = load_text('Data/rt-polaritydata/rt-polarity.pos')\n",
        "\n",
        "# Concatenate and label data\n",
        "texts = np.array(neg_text + pos_text)\n",
        "labels = np.array([0]*len(neg_text) + [1]*len(pos_text))"
      ],
      "execution_count": null,
      "outputs": []
    },
    {
      "cell_type": "markdown",
      "source": [
        "###1.3. Download word2vec Word Vectors\n",
        "The pretrained word vectors used in the original paper is *word2vec* (Mikolov et al., 2013) trained on 100 billion tokens of Google News."
      ],
      "metadata": {
        "id": "7yjBsTHfYeqm"
      }
    },
    {
      "cell_type": "code",
      "source": [
        "# Download Word2Vec\n",
        "from gensim.models.word2vec import Word2Vec\n",
        "from gensim.models import KeyedVectors\n",
        "import gensim.downloader as api\n",
        "import gensim\n",
        "import os\n",
        "\n",
        "\n",
        "wv = api.load('word2vec-google-news-300')\n"
      ],
      "metadata": {
        "colab": {
          "base_uri": "https://localhost:8080/"
        },
        "id": "QqjPDuvyzJqv",
        "outputId": "a9f9b7b0-bb4a-4675-8442-2d61567e2439"
      },
      "execution_count": null,
      "outputs": [
        {
          "output_type": "stream",
          "name": "stdout",
          "text": [
            "[==================================================] 100.0% 1662.8/1662.8MB downloaded\n"
          ]
        }
      ]
    },
    {
      "cell_type": "code",
      "source": [
        "for index, word in enumerate(wv.index2word):\n",
        "    if index == 10:\n",
        "        break\n",
        "    print(f\"word #{index}/{len(wv.index2word)} is {word}\")\n",
        "print(wv.get_vector(\"in\"))"
      ],
      "metadata": {
        "colab": {
          "base_uri": "https://localhost:8080/"
        },
        "id": "DG0G0Ui4TQ_u",
        "outputId": "c537d33c-d0b4-4f69-fe4d-d57dcd9c2039"
      },
      "execution_count": null,
      "outputs": [
        {
          "output_type": "stream",
          "name": "stdout",
          "text": [
            "word #0/3000000 is </s>\n",
            "word #1/3000000 is in\n",
            "word #2/3000000 is for\n",
            "word #3/3000000 is that\n",
            "word #4/3000000 is is\n",
            "word #5/3000000 is on\n",
            "word #6/3000000 is ##\n",
            "word #7/3000000 is The\n",
            "word #8/3000000 is with\n",
            "word #9/3000000 is said\n",
            "[ 0.0703125   0.08691406  0.08789062  0.0625      0.06933594 -0.10888672\n",
            " -0.08154297 -0.15429688  0.02075195  0.13183594 -0.11376953 -0.03735352\n",
            "  0.06933594  0.078125   -0.10302734 -0.09765625  0.04418945  0.10253906\n",
            " -0.06079102 -0.03613281 -0.04541016  0.04736328 -0.12060547 -0.06396484\n",
            "  0.0022583   0.03710938 -0.00291443  0.11767578  0.06176758  0.06396484\n",
            "  0.08105469 -0.06884766 -0.0213623   0.05517578 -0.08544922  0.06884766\n",
            " -0.12792969 -0.03320312  0.09863281  0.17578125  0.11083984 -0.03466797\n",
            " -0.04711914 -0.00848389  0.03588867  0.10302734  0.02697754 -0.02868652\n",
            " -0.00512695  0.10644531  0.05981445  0.09423828  0.03369141 -0.02709961\n",
            " -0.09423828  0.00102997 -0.04833984  0.03442383  0.08105469 -0.11328125\n",
            " -0.08886719  0.03588867 -0.14550781 -0.24414062 -0.06152344  0.05297852\n",
            "  0.05688477  0.1796875   0.06103516  0.08691406  0.12402344 -0.0402832\n",
            "  0.02258301  0.17773438 -0.02966309 -0.02966309  0.1171875   0.03112793\n",
            " -0.09619141  0.06640625  0.00469971 -0.08007812  0.06298828 -0.02062988\n",
            " -0.0546875  -0.13574219 -0.06347656  0.08349609 -0.06396484  0.02148438\n",
            "  0.07714844 -0.03710938 -0.03369141 -0.18359375 -0.07275391  0.01586914\n",
            "  0.09326172 -0.06152344 -0.01422119 -0.00344849  0.0111084  -0.15820312\n",
            " -0.01708984  0.00619507 -0.00872803 -0.08056641 -0.01525879 -0.08789062\n",
            "  0.003479   -0.01611328 -0.0123291   0.09765625 -0.13964844 -0.0859375\n",
            " -0.02685547  0.05395508  0.1328125   0.11279297  0.12109375  0.08544922\n",
            " -0.0071106   0.04467773 -0.14550781 -0.00320435 -0.11767578 -0.06542969\n",
            "  0.07128906 -0.09423828 -0.03027344  0.12011719  0.08007812 -0.09472656\n",
            " -0.16210938 -0.07763672  0.02124023 -0.08154297  0.00393677 -0.15722656\n",
            " -0.09814453  0.03979492  0.03930664 -0.00909424  0.10302734  0.06787109\n",
            " -0.04272461  0.06347656 -0.04907227  0.02087402 -0.16699219  0.09326172\n",
            "  0.09375     0.00686646  0.05371094  0.05249023 -0.02441406 -0.0324707\n",
            " -0.06152344 -0.0055542   0.09619141  0.0378418   0.01220703 -0.04394531\n",
            " -0.00747681  0.10546875  0.02038574  0.14550781  0.08203125  0.00576782\n",
            "  0.00457764 -0.09277344 -0.13867188 -0.05737305 -0.05151367 -0.13085938\n",
            " -0.13964844 -0.02050781 -0.02709961  0.03271484  0.10498047 -0.00233459\n",
            " -0.02258301  0.00050354 -0.11083984  0.08496094 -0.12988281 -0.01745605\n",
            " -0.00035858  0.10791016  0.08886719  0.04467773  0.02514648  0.02380371\n",
            "  0.08105469  0.02368164 -0.10986328  0.00537109 -0.0177002  -0.03393555\n",
            " -0.03295898 -0.1640625   0.09570312 -0.01831055  0.00531006 -0.03442383\n",
            " -0.04418945 -0.06640625 -0.01794434 -0.02966309 -0.00759888 -0.05126953\n",
            " -0.05419922  0.08935547 -0.07177734  0.01525879 -0.08251953 -0.03173828\n",
            "  0.03564453 -0.02124023 -0.05932617 -0.01306152  0.046875    0.02307129\n",
            "  0.02099609 -0.07861328 -0.00805664  0.01953125 -0.0055542   0.04150391\n",
            "  0.02783203  0.01361084  0.03466797 -0.18261719  0.12011719  0.07421875\n",
            " -0.04101562 -0.00994873  0.04296875 -0.0072937   0.12304688  0.05761719\n",
            " -0.0534668  -0.03222656 -0.00909424 -0.04663086  0.04394531 -0.05078125\n",
            "  0.06884766  0.00299072 -0.00418091 -0.04418945  0.07373047 -0.01275635\n",
            "  0.06738281  0.00628662  0.07519531 -0.0378418   0.00488281  0.04467773\n",
            " -0.06738281  0.00970459  0.00473022  0.02050781  0.07128906  0.17089844\n",
            "  0.17382812  0.05566406  0.09130859 -0.03735352  0.04980469 -0.03930664\n",
            "  0.04418945  0.0625      0.04858398 -0.05322266  0.04882812 -0.13085938\n",
            " -0.02893066 -0.03613281 -0.06079102 -0.05737305  0.12304688 -0.08251953\n",
            " -0.01190186  0.125       0.00135803  0.06396484 -0.10644531 -0.14355469\n",
            " -0.04223633  0.02404785 -0.16894531 -0.08886719 -0.08056641  0.06494141\n",
            "  0.0612793  -0.04736328 -0.05883789 -0.04760742  0.01446533 -0.0625    ]\n"
          ]
        }
      ]
    },
    {
      "cell_type": "markdown",
      "metadata": {
        "id": "3_zdk5uPVW-c"
      },
      "source": [
        "### ++ 1.3. Download fastText Word Vectors"
      ]
    },
    {
      "cell_type": "markdown",
      "metadata": {
        "id": "l6au-ShG0bJ6"
      },
      "source": [
        "We can use [*fastText* pretrained word vectors](https://fasttext.cc/docs/en/english-vectors.html) (Mikolov et al., 2017), trained on 600 billion tokens on Common Crawl. *fastText* is an upgraded version of *word2vec* and outperform other state-of-the-art methods by a large margin.\n",
        "\n",
        "The code below will download fastText pretrained vectors. Using Google Colab, the running time is approximately 3min 30s."
      ]
    },
    {
      "cell_type": "code",
      "metadata": {
        "id": "INcMZsYe7HQ1",
        "outputId": "1b4335aa-b904-4d6f-ee95-8e368825a6de",
        "colab": {
          "base_uri": "https://localhost:8080/"
        }
      },
      "source": [
        "%%time\n",
        "URL = \"https://dl.fbaipublicfiles.com/fasttext/vectors-english/crawl-300d-2M.vec.zip\"\n",
        "FILE = \"fastText\"\n",
        "\n",
        "if os.path.isdir(FILE):\n",
        "    print(\"fastText exists.\")\n",
        "else:\n",
        "    !wget -P $FILE $URL\n",
        "    !unzip $FILE/crawl-300d-2M.vec.zip -d $FILE"
      ],
      "execution_count": null,
      "outputs": [
        {
          "output_type": "stream",
          "name": "stdout",
          "text": [
            "--2022-06-08 13:14:40--  https://dl.fbaipublicfiles.com/fasttext/vectors-english/crawl-300d-2M.vec.zip\n",
            "Resolving dl.fbaipublicfiles.com (dl.fbaipublicfiles.com)... 172.67.9.4, 104.22.75.142, 104.22.74.142, ...\n",
            "Connecting to dl.fbaipublicfiles.com (dl.fbaipublicfiles.com)|172.67.9.4|:443... connected.\n",
            "HTTP request sent, awaiting response... 200 OK\n",
            "Length: 1523785255 (1.4G) [application/zip]\n",
            "Saving to: ‘fastText/crawl-300d-2M.vec.zip’\n",
            "\n",
            "crawl-300d-2M.vec.z 100%[===================>]   1.42G  43.1MB/s    in 34s     \n",
            "\n",
            "2022-06-08 13:15:15 (43.0 MB/s) - ‘fastText/crawl-300d-2M.vec.zip’ saved [1523785255/1523785255]\n",
            "\n",
            "Archive:  fastText/crawl-300d-2M.vec.zip\n",
            "  inflating: fastText/crawl-300d-2M.vec  \n",
            "CPU times: user 605 ms, sys: 256 ms, total: 861 ms\n",
            "Wall time: 1min 16s\n"
          ]
        }
      ]
    },
    {
      "cell_type": "markdown",
      "metadata": {
        "id": "5KXpMukJ2jzl"
      },
      "source": [
        "### 1.4. Set up GPU for Training"
      ]
    },
    {
      "cell_type": "markdown",
      "metadata": {
        "id": "PKjyE7bmQ-YV"
      },
      "source": [
        "Google Colab offers free GPUs and TPUs. Since we'll be training a large neural network it's best to utilize these features.\n",
        "\n",
        "A GPU can be added by going to the menu and selecting:\n",
        "\n",
        "> Runtime -> Change runtime type -> Hardware accelerator: GPU\n",
        "\n",
        "Then we need to run the following cell to specify the GPU as the device."
      ]
    },
    {
      "cell_type": "code",
      "metadata": {
        "id": "T73lLtFe2sYl",
        "outputId": "89444030-1946-44da-a73d-2c564a19f4bc",
        "colab": {
          "base_uri": "https://localhost:8080/"
        }
      },
      "source": [
        "if torch.cuda.is_available():       \n",
        "    device = torch.device(\"cuda\")\n",
        "    print(f'There are {torch.cuda.device_count()} GPU(s) available.')\n",
        "    print('Device name:', torch.cuda.get_device_name(0))\n",
        "\n",
        "else:\n",
        "    print('No GPU available, using the CPU instead.')\n",
        "    device = torch.device(\"cpu\")"
      ],
      "execution_count": null,
      "outputs": [
        {
          "output_type": "stream",
          "name": "stdout",
          "text": [
            "There are 1 GPU(s) available.\n",
            "Device name: Tesla T4\n"
          ]
        }
      ]
    },
    {
      "cell_type": "markdown",
      "metadata": {
        "id": "hfF1N73tzOlM"
      },
      "source": [
        "## 2. Data Preparation"
      ]
    },
    {
      "cell_type": "markdown",
      "metadata": {
        "id": "-OGgwb0TRPIs"
      },
      "source": [
        "To prepare our text data for training, first we need to tokenize our sentences and build a vocabulary dictionary `word2idx`, which will later be used to convert our tokens into indexes and build an embedding layer.\n",
        "\n",
        "***So, what is an embedding layer?***\n",
        "\n",
        "An embedding layer serves as a **look-up table** which take word indexes in the vocabulary as input and output word vectors. Hence, the embedding layer has shape $(N, d)$ where $N$ is the size of the vocabulary and $d$ is the embedding dimension. In order to fine-tune pretrained word vectors, we need to create an embedding layer in our `nn.Modules` class. Our input to the model will then be `input_ids`, which is the tokens' index in the vocabulary."
      ]
    },
    {
      "cell_type": "markdown",
      "metadata": {
        "id": "_wupNcAVzzVs"
      },
      "source": [
        "### 2.1. Tokenize"
      ]
    },
    {
      "cell_type": "markdown",
      "metadata": {
        "id": "mjQVL8dIjEtk"
      },
      "source": [
        "The function `tokenize` will tokenize our sentences, build a vocabulary and fine the maximum sentence length. The function `encode` will take in the outputs of `tokenize`, perform sentence padding and return `input_ids` as a numpy array."
      ]
    },
    {
      "cell_type": "code",
      "metadata": {
        "id": "4Y1QdMuWMSr5"
      },
      "source": [
        "from nltk.tokenize import word_tokenize\n",
        "from collections import defaultdict\n",
        "\n",
        "def tokenize(texts):\n",
        "    \"\"\"Tokenize texts, build vocabulary and find maximum sentence length.\n",
        "    \n",
        "    Args:\n",
        "        texts (List[str]): List of text data\n",
        "    \n",
        "    Returns:\n",
        "        tokenized_texts (List[List[str]]): List of list of tokens\n",
        "        word2idx (Dict): Vocabulary built from the corpus\n",
        "        max_len (int): Maximum sentence length\n",
        "    \"\"\"\n",
        "\n",
        "    max_len = 0\n",
        "    tokenized_texts = []\n",
        "    word2idx = {}\n",
        "\n",
        "    # Add <pad> and <unk> tokens to the vocabulary\n",
        "    word2idx['<pad>'] = 0\n",
        "    word2idx['<unk>'] = 1\n",
        "\n",
        "    # Building our vocab from the corpus starting from index 2\n",
        "    idx = 2\n",
        "    for sent in texts:\n",
        "        tokenized_sent = word_tokenize(sent)\n",
        "\n",
        "        # Add `tokenized_sent` to `tokenized_texts`\n",
        "        tokenized_texts.append(tokenized_sent)\n",
        "\n",
        "        # Add new token to `word2idx`\n",
        "        for token in tokenized_sent:\n",
        "            if token not in word2idx:\n",
        "                word2idx[token] = idx\n",
        "                idx += 1\n",
        "\n",
        "        # Update `max_len`\n",
        "        max_len = max(max_len, len(tokenized_sent))\n",
        "\n",
        "    return tokenized_texts, word2idx, max_len\n",
        "\n",
        "def encode(tokenized_texts, word2idx, max_len):\n",
        "    \"\"\"Pad each sentence to the maximum sentence length and encode tokens to\n",
        "    their index in the vocabulary.\n",
        "\n",
        "    Returns:\n",
        "        input_ids (np.array): Array of token indexes in the vocabulary with\n",
        "            shape (N, max_len). It will the input of our CNN model.\n",
        "    \"\"\"\n",
        "\n",
        "    input_ids = []\n",
        "    for tokenized_sent in tokenized_texts:\n",
        "        # Pad sentences to max_len\n",
        "        tokenized_sent += ['<pad>'] * (max_len - len(tokenized_sent))\n",
        "\n",
        "        # Encode tokens to input_ids\n",
        "        input_id = [word2idx.get(token) for token in tokenized_sent]\n",
        "        input_ids.append(input_id)\n",
        "    \n",
        "    return np.array(input_ids)"
      ],
      "execution_count": null,
      "outputs": []
    },
    {
      "cell_type": "markdown",
      "metadata": {
        "id": "Zut46F0NK2b_"
      },
      "source": [
        "### 2.2. Load Pretrained Vectors"
      ]
    },
    {
      "cell_type": "markdown",
      "metadata": {
        "id": "1htIbprNlxtY"
      },
      "source": [
        "We will load the pretrain vectors for each tokens in our vocabulary. For tokens with no pretraiend vectors, we will initialize random word vectors with the same length and variance "
      ]
    },
    {
      "cell_type": "markdown",
      "source": [
        "For word2vec - Google news 3000"
      ],
      "metadata": {
        "id": "W320wwlPYGwk"
      }
    },
    {
      "cell_type": "code",
      "source": [
        "from tqdm import tqdm_notebook\n",
        "\n",
        "def load_pretrained_vectors_2(word2idx, wv):\n",
        "    \"\"\"Load pretrained vectors and create embedding layers.\n",
        "    \n",
        "    Args:\n",
        "        word2idx (Dict): Vocabulary built from the corpus\n",
        "        fname (str): Path to pretrained vector file\n",
        "\n",
        "    Returns:\n",
        "        embeddings (np.array): Embedding matrix with shape (N, d) where N is\n",
        "            the size of word2idx and d is embedding dimension\n",
        "    \"\"\"\n",
        "\n",
        "    print(\"Loading pretrained vectors...\")\n",
        "\n",
        "\n",
        "    # Initilize random embeddings\n",
        "    # dimension = 300\n",
        "    d = 300\n",
        "    embeddings = np.random.uniform(-0.25, 0.25, (len(word2idx), d))\n",
        "    embeddings[word2idx['<pad>']] = np.zeros((d,))\n",
        "\n",
        "    # Load pretrained vectors\n",
        "    count = 0\n",
        "    for index, word in enumerate(wv.index2word):\n",
        "        tokens = wv.get_vector(word)\n",
        "        if word in word2idx:\n",
        "            count += 1\n",
        "            embeddings[word2idx[word]] = np.array(tokens, dtype=np.float32)\n",
        "\n",
        "    print(f\"There are {count} / {len(word2idx)} pretrained vectors found.\")\n",
        "\n",
        "    return embeddings"
      ],
      "metadata": {
        "id": "qnqU-qTxXasG"
      },
      "execution_count": null,
      "outputs": []
    },
    {
      "cell_type": "markdown",
      "source": [
        "++ For fastText"
      ],
      "metadata": {
        "id": "Yz3wBh4alD9C"
      }
    },
    {
      "cell_type": "code",
      "metadata": {
        "id": "uBX8y7wgNiQh"
      },
      "source": [
        "from tqdm import tqdm_notebook\n",
        "\n",
        "def load_pretrained_vectors(word2idx, fname):\n",
        "    \"\"\"Load pretrained vectors and create embedding layers.\n",
        "    \n",
        "    Args:\n",
        "        word2idx (Dict): Vocabulary built from the corpus\n",
        "        fname (str): Path to pretrained vector file\n",
        "\n",
        "    Returns:\n",
        "        embeddings (np.array): Embedding matrix with shape (N, d) where N is\n",
        "            the size of word2idx and d is embedding dimension\n",
        "    \"\"\"\n",
        "\n",
        "    print(\"Loading pretrained vectors...\")\n",
        "    fin = open(fname, 'r', encoding='utf-8', newline='\\n', errors='ignore')\n",
        "    n, d = map(int, fin.readline().split())\n",
        "    print(d)\n",
        "\n",
        "    # Initilize random embeddings\n",
        "    embeddings = np.random.uniform(-0.25, 0.25, (len(word2idx), d))\n",
        "    embeddings[word2idx['<pad>']] = np.zeros((d,))\n",
        "\n",
        "    # Load pretrained vectors\n",
        "    count = 0\n",
        "    for line in tqdm_notebook(fin):\n",
        "        tokens = line.rstrip().split(' ')\n",
        "        word = tokens[0]\n",
        "        if word in word2idx:\n",
        "            count += 1\n",
        "            embeddings[word2idx[word]] = np.array(tokens[1:], dtype=np.float32)\n",
        "\n",
        "    print(f\"There are {count} / {len(word2idx)} pretrained vectors found.\")\n",
        "\n",
        "    return embeddings"
      ],
      "execution_count": null,
      "outputs": []
    },
    {
      "cell_type": "markdown",
      "metadata": {
        "id": "Uc0J6ZXGloN7"
      },
      "source": [
        "Now let's put above steps together."
      ]
    },
    {
      "cell_type": "markdown",
      "source": [
        "This is the result of word2vec"
      ],
      "metadata": {
        "id": "zYGu36RvlPPw"
      }
    },
    {
      "cell_type": "code",
      "source": [
        "# Tokenize, build vocabulary, encode tokens\n",
        "print(\"Tokenizing...\\n\")\n",
        "tokenized_texts, word2idx, max_len = tokenize(texts)\n",
        "input_ids = encode(tokenized_texts, word2idx, max_len)\n",
        "\n",
        "# Load pretrained vectors\n",
        "#embeddings = load_pretrained_vectors(word2idx, \"fastText/crawl-300d-2M.vec\")\n",
        "embeddings = load_pretrained_vectors_2(word2idx, wv)\n",
        "embeddings = torch.tensor(embeddings)"
      ],
      "metadata": {
        "colab": {
          "base_uri": "https://localhost:8080/"
        },
        "id": "l_J-ABofgkKj",
        "outputId": "933d2f63-6309-499c-a745-3d17ba7d23e3"
      },
      "execution_count": null,
      "outputs": [
        {
          "output_type": "stream",
          "name": "stdout",
          "text": [
            "Tokenizing...\n",
            "\n",
            "Loading pretrained vectors...\n",
            "There are 15951 / 20286 pretrained vectors found.\n"
          ]
        }
      ]
    },
    {
      "cell_type": "markdown",
      "source": [
        "This is the result of fastText"
      ],
      "metadata": {
        "id": "QnIK-Wmu6S5I"
      }
    },
    {
      "cell_type": "code",
      "metadata": {
        "id": "DctpztMIlgtt",
        "outputId": "6696916d-0bd2-45e4-c6b8-4b64d8b144a6",
        "colab": {
          "base_uri": "https://localhost:8080/",
          "height": 170,
          "referenced_widgets": [
            "2cf55dd3f6e2463c9a72bb38f5e19351",
            "c9cbce4561c0447f945c71c58e035b28",
            "b9701d695eaf4ccaa4099b428a2e444e",
            "8add09b0691c4f3b91722bcc437b9ffe",
            "0596659f95604194814e9c7d7d435deb",
            "ce14386fe83843b4be11250bdfb4f420",
            "7acf242a3143470ea6c5d7e6196dd55d",
            "9a1d34e585e045959d26ec2c6f0bb05a",
            "6c1cd46b4d7a474b9c27159173450a66",
            "62af42e6c91f4ac79336b58c0dda9ab8",
            "1d37c7e93a1f49a88a8969b63ee3d9b1"
          ]
        }
      },
      "source": [
        "# Tokenize, build vocabulary, encode tokens\n",
        "print(\"Tokenizing...\\n\")\n",
        "tokenized_texts, word2idx, max_len = tokenize(texts)\n",
        "input_ids = encode(tokenized_texts, word2idx, max_len)\n",
        "\n",
        "# Load pretrained vectors\n",
        "embeddings_fast = load_pretrained_vectors(word2idx, \"fastText/crawl-300d-2M.vec\")\n",
        "embeddings_fast = torch.tensor(embeddings_fast)"
      ],
      "execution_count": null,
      "outputs": [
        {
          "output_type": "stream",
          "name": "stdout",
          "text": [
            "Tokenizing...\n",
            "\n",
            "Loading pretrained vectors...\n",
            "300\n"
          ]
        },
        {
          "output_type": "stream",
          "name": "stderr",
          "text": [
            "/usr/local/lib/python3.7/dist-packages/ipykernel_launcher.py:26: TqdmDeprecationWarning: This function will be removed in tqdm==5.0.0\n",
            "Please use `tqdm.notebook.tqdm` instead of `tqdm.tqdm_notebook`\n"
          ]
        },
        {
          "output_type": "display_data",
          "data": {
            "text/plain": [
              "0it [00:00, ?it/s]"
            ],
            "application/vnd.jupyter.widget-view+json": {
              "version_major": 2,
              "version_minor": 0,
              "model_id": "2cf55dd3f6e2463c9a72bb38f5e19351"
            }
          },
          "metadata": {}
        },
        {
          "output_type": "stream",
          "name": "stdout",
          "text": [
            "There are 18526 / 20286 pretrained vectors found.\n"
          ]
        }
      ]
    },
    {
      "cell_type": "markdown",
      "source": [
        "##We can notice that fastText contains more pre-trained vectors than word2vec, this is due to fastText using sub-string to generate the corresponding word vector. "
      ],
      "metadata": {
        "id": "IW6-g6JQ6bdw"
      }
    },
    {
      "cell_type": "markdown",
      "metadata": {
        "id": "K87hskJtyeA_"
      },
      "source": [
        "### 2.3. Create PyTorch DataLoader"
      ]
    },
    {
      "cell_type": "markdown",
      "source": [
        "Below are the result using word2vec (same as original setting)"
      ],
      "metadata": {
        "id": "hsqDtsHulfT2"
      }
    },
    {
      "cell_type": "markdown",
      "metadata": {
        "id": "VleMUhr4mlo9"
      },
      "source": [
        "We will create an iterator for our dataset using the torch DataLoader class. This will help save on memory during training and boost the training speed. The batch_size used in the paper is 50."
      ]
    },
    {
      "cell_type": "code",
      "metadata": {
        "id": "k4WinIkRyive"
      },
      "source": [
        "from torch.utils.data import (TensorDataset, DataLoader, RandomSampler,\n",
        "                              SequentialSampler)\n",
        "\n",
        "def data_loader(train_inputs, val_inputs, train_labels, val_labels,\n",
        "                batch_size=50):\n",
        "    \"\"\"Convert train and validation sets to torch.Tensors and load them to\n",
        "    DataLoader.\n",
        "    \"\"\"\n",
        "\n",
        "    # Convert data type to torch.Tensor\n",
        "    train_inputs, val_inputs, train_labels, val_labels =\\\n",
        "    tuple(torch.tensor(data) for data in\n",
        "          [train_inputs, val_inputs, train_labels, val_labels])\n",
        "\n",
        "    # Specify batch_size\n",
        "    batch_size = 50\n",
        "\n",
        "    # Create DataLoader for training data\n",
        "    train_data = TensorDataset(train_inputs, train_labels)\n",
        "    train_sampler = RandomSampler(train_data)\n",
        "    train_dataloader = DataLoader(train_data, sampler=train_sampler, batch_size=batch_size)\n",
        "\n",
        "    # Create DataLoader for validation data\n",
        "    val_data = TensorDataset(val_inputs, val_labels)\n",
        "    val_sampler = SequentialSampler(val_data)\n",
        "    val_dataloader = DataLoader(val_data, sampler=val_sampler, batch_size=batch_size)\n",
        "\n",
        "    return train_dataloader, val_dataloader"
      ],
      "execution_count": null,
      "outputs": []
    },
    {
      "cell_type": "markdown",
      "metadata": {
        "id": "6xiAeikanZvE"
      },
      "source": [
        "We will use 90% of the dataset for training and 10% for validation."
      ]
    },
    {
      "cell_type": "code",
      "metadata": {
        "id": "7eCQRLKNZ-t7"
      },
      "source": [
        "from sklearn.model_selection import train_test_split\n",
        "\n",
        "# Train Test Split\n",
        "train_inputs, val_inputs, train_labels, val_labels = train_test_split(\n",
        "    input_ids, labels, test_size=0.1, random_state=42)\n",
        "\n",
        "# Load data to PyTorch DataLoader\n",
        "train_dataloader, val_dataloader = \\\n",
        "data_loader(train_inputs, val_inputs, train_labels, val_labels, batch_size=50)"
      ],
      "execution_count": null,
      "outputs": []
    },
    {
      "cell_type": "markdown",
      "metadata": {
        "id": "2ImIIvoOSWCT"
      },
      "source": [
        "## 3. Model"
      ]
    },
    {
      "cell_type": "markdown",
      "metadata": {
        "id": "FqsrL0XToAPm"
      },
      "source": [
        "**CNN Architecture**\n",
        "\n",
        "The picture below is the illustration of the CNN architecture that we are going to build with three filter sizes: 2, 3, and 4, each of which has 2 filters."
      ]
    },
    {
      "cell_type": "markdown",
      "metadata": {
        "id": "rV15G29uqLVX"
      },
      "source": [
        "![](https://github.com/chriskhanhtran/CNN-Sentence-Classification-PyTorch/blob/master/cnn-architecture.JPG?raw=true)\n",
        "\n",
        "*CNN Architecture (Source: Zhang, 2015)*\n",
        "\n",
        "```python\n",
        "# Sample configuration:\n",
        "filter_sizes = [2, 3, 4]\n",
        "num_filters = [2, 2, 2]\n",
        "```\n",
        "\n",
        "Suppose that we are classifying the sentence \"***I like this movie very much!***\" ($N = 7$ tokens) and the dimensionality of word vectors is $d=5$. After applying the embedding layer on the input token ids, the sample sentence is presented as a 2D tensor with shape (7, 5) like an image.\n",
        "\n",
        "$$\\mathrm{x_{emb}} \\quad \\in \\mathbb{R}^{7 \\times 5}$$\n",
        "\n",
        "We then use 1-dimesional convolution to extract features from the sentence. In this example, we have 6 filters in total, and each filter has shape $(f_i, d)$ where $f_i$ is the filter size for $i \\in \\{1,...,6\\}$. Each filter will then scan over $\\mathrm{x_{emb}}$ and returns a feature map:\n",
        "\n",
        "$$\\mathrm{x_{conv_ i} = Conv1D(x_{emb})} \\quad \\in \\mathbb{R}^{N-f_i+1}$$\n",
        "\n",
        "Next, we apply the ReLU activation to $\\mathrm{x_{conv_{i}}}$ and use max-over-time-pooling to reduce each feature map to a single scalar. Then we concatenate these scalars into the final feature vector which will be fed to a fully connected layer to compute the final scores for our classes (logits).\n",
        "\n",
        "$$\\mathrm{x_{pool_i} = MaxPool(ReLU(x_{conv_i}))} \\quad \\in \\mathbb{R}$$\n",
        "\n",
        "$$\\mathrm{x_{fc} = \\texttt{concat}(x_{pool_i})} \\quad \\in \\mathbb{R}^6$$\n",
        "\n",
        "The idea here is that each filter will capture different semantic signals in the sentence (ie. happiness, humor, politic, anger...) and max-pooling will record only the strongest signal over the sentence. This logic makes sense because humans also perceive the sentiment of a sentence based on its strongest word/signal.\n",
        "\n",
        "Finally, we use a fully connected layer with the weight matrix $\\mathbf{W_{fc}} \\in \\mathbb{R}^{2 \\times 6} $ and dropout to compute $\\mathrm{logits}$, which is a vector of length 2 that keeps the scores for 2 classes.\n",
        "\n",
        "$$\\mathrm{logits = Dropout(\\mathbf{W_{fc}}x_{fc})}  \\in \\mathbb{R}^2$$\n",
        "\n",
        "An in-depth explanation of CNN can be found in this [article](https://cs231n.github.io/convolutional-networks/) and this [video](https://www.youtube.com/watch?v=YRhxdVk_sIs).\n",
        "\n",
        "\n",
        "\n",
        "\n",
        "\n",
        "\n",
        "\n",
        "\n"
      ]
    },
    {
      "cell_type": "markdown",
      "metadata": {
        "id": "MgLt4c-0iWKL"
      },
      "source": [
        "### 3.1. Create CNN Model"
      ]
    },
    {
      "cell_type": "markdown",
      "metadata": {
        "id": "bmMXZ6UG9to8"
      },
      "source": [
        "For simplicity, the model above has very small configurations. The final model we'll use is much bigger but has the same architecture:\n",
        "\n",
        "|Description         |Values           |\n",
        "|:------------------:|:---------------:|\n",
        "|input word vectors  |Word2Vec         |\n",
        "|embedding size      |300              |\n",
        "|filter sizes        |(3, 4, 5)        |\n",
        "|num filters         |(100, 100, 100)  |\n",
        "|activation          |ReLU             |\n",
        "|pooling             |1-max pooling    |\n",
        "|dropout rate        |0.5              |\n",
        "\n"
      ]
    },
    {
      "cell_type": "code",
      "metadata": {
        "id": "ejGLw8TKViBY"
      },
      "source": [
        "import torch\n",
        "import torch.nn as nn\n",
        "import torch.nn.functional as F\n",
        "\n",
        "class CNN_NLP(nn.Module):\n",
        "    \"\"\"An 1D Convulational Neural Network for Sentence Classification.\"\"\"\n",
        "    def __init__(self,\n",
        "                 pretrained_embedding=None,\n",
        "                 freeze_embedding=False,\n",
        "                 vocab_size=None,\n",
        "                 embed_dim=300,\n",
        "                 filter_sizes=[3, 4, 5],\n",
        "                 num_filters=[100, 100, 100],\n",
        "                 num_classes=2,\n",
        "                 dropout=0.5):\n",
        "        \"\"\"\n",
        "        The constructor for CNN_NLP class.\n",
        "\n",
        "        Args:\n",
        "            pretrained_embedding (torch.Tensor): Pretrained embeddings with\n",
        "                shape (vocab_size, embed_dim)\n",
        "            freeze_embedding (bool): Set to False to fine-tune pretraiend\n",
        "                vectors. Default: False\n",
        "            vocab_size (int): Need to be specified when not pretrained word\n",
        "                embeddings are not used.\n",
        "            embed_dim (int): Dimension of word vectors. Need to be specified\n",
        "                when pretrained word embeddings are not used. Default: 300\n",
        "            filter_sizes (List[int]): List of filter sizes. Default: [3, 4, 5]\n",
        "            num_filters (List[int]): List of number of filters, has the same\n",
        "                length as `filter_sizes`. Default: [100, 100, 100]\n",
        "            n_classes (int): Number of classes. Default: 2\n",
        "            dropout (float): Dropout rate. Default: 0.5\n",
        "        \"\"\"\n",
        "\n",
        "        super(CNN_NLP, self).__init__()\n",
        "        # Embedding layer\n",
        "        if pretrained_embedding is not None:\n",
        "            self.vocab_size, self.embed_dim = pretrained_embedding.shape\n",
        "            self.embedding = nn.Embedding.from_pretrained(pretrained_embedding,\n",
        "                                                          freeze=freeze_embedding)\n",
        "        else:\n",
        "            self.embed_dim = embed_dim\n",
        "            self.embedding = nn.Embedding(num_embeddings=vocab_size,\n",
        "                                          embedding_dim=self.embed_dim,\n",
        "                                          padding_idx=0,\n",
        "                                          max_norm=5.0)\n",
        "        # Conv Network\n",
        "        self.conv1d_list = nn.ModuleList([\n",
        "            nn.Conv1d(in_channels=self.embed_dim,\n",
        "                      out_channels=num_filters[i],\n",
        "                      kernel_size=filter_sizes[i])\n",
        "            for i in range(len(filter_sizes))\n",
        "        ])\n",
        "        # Fully-connected layer and Dropout\n",
        "        self.fc = nn.Linear(np.sum(num_filters), num_classes)\n",
        "        self.dropout = nn.Dropout(p=dropout)\n",
        "\n",
        "    def forward(self, input_ids):\n",
        "        \"\"\"Perform a forward pass through the network.\n",
        "\n",
        "        Args:\n",
        "            input_ids (torch.Tensor): A tensor of token ids with shape\n",
        "                (batch_size, max_sent_length)\n",
        "\n",
        "        Returns:\n",
        "            logits (torch.Tensor): Output logits with shape (batch_size,\n",
        "                n_classes)\n",
        "        \"\"\"\n",
        "\n",
        "        # Get embeddings from `input_ids`. Output shape: (b, max_len, embed_dim)\n",
        "        x_embed = self.embedding(input_ids).float()\n",
        "\n",
        "        # Permute `x_embed` to match input shape requirement of `nn.Conv1d`.\n",
        "        # Output shape: (b, embed_dim, max_len)\n",
        "        x_reshaped = x_embed.permute(0, 2, 1)\n",
        "\n",
        "        # Apply CNN and ReLU. Output shape: (b, num_filters[i], L_out)\n",
        "        x_conv_list = [F.relu(conv1d(x_reshaped)) for conv1d in self.conv1d_list]\n",
        "\n",
        "        # Max pooling. Output shape: (b, num_filters[i], 1)\n",
        "        x_pool_list = [F.max_pool1d(x_conv, kernel_size=x_conv.shape[2])\n",
        "            for x_conv in x_conv_list]\n",
        "        \n",
        "        # Concatenate x_pool_list to feed the fully connected layer.\n",
        "        # Output shape: (b, sum(num_filters))\n",
        "        x_fc = torch.cat([x_pool.squeeze(dim=2) for x_pool in x_pool_list],\n",
        "                         dim=1)\n",
        "        \n",
        "        # Compute logits. Output shape: (b, n_classes)\n",
        "        logits = self.fc(self.dropout(x_fc))\n",
        "\n",
        "        return logits"
      ],
      "execution_count": null,
      "outputs": []
    },
    {
      "cell_type": "markdown",
      "metadata": {
        "id": "nf9xEQR-yO_U"
      },
      "source": [
        "### 3.2. Optimizer"
      ]
    },
    {
      "cell_type": "markdown",
      "metadata": {
        "id": "P7TnaJvUCaz7"
      },
      "source": [
        "To train Deep Learning models, we need to define a loss function and minimize this loss. We'll use back-propagation to compute gradients and use an optimization algorithm (ie. Gradient Descent) to minimize the loss. The original paper used the Adadelta optimizer."
      ]
    },
    {
      "cell_type": "code",
      "metadata": {
        "id": "lTJnvDI9xuUv"
      },
      "source": [
        "import torch.optim as optim\n",
        "\n",
        "def initilize_model(pretrained_embedding=None,\n",
        "                    freeze_embedding=False,\n",
        "                    vocab_size=None,\n",
        "                    embed_dim=300,\n",
        "                    filter_sizes=[3, 4, 5],\n",
        "                    num_filters=[100, 100, 100],\n",
        "                    num_classes=2,\n",
        "                    dropout=0.5,\n",
        "                    learning_rate=0.01):\n",
        "    \"\"\"Instantiate a CNN model and an optimizer.\"\"\"\n",
        "\n",
        "    assert (len(filter_sizes) == len(num_filters)), \"filter_sizes and \\\n",
        "    num_filters need to be of the same length.\"\n",
        "\n",
        "    # Instantiate CNN model\n",
        "    cnn_model = CNN_NLP(pretrained_embedding=pretrained_embedding,\n",
        "                        freeze_embedding=freeze_embedding,\n",
        "                        vocab_size=vocab_size,\n",
        "                        embed_dim=embed_dim,\n",
        "                        filter_sizes=filter_sizes,\n",
        "                        num_filters=num_filters,\n",
        "                        num_classes=2,\n",
        "                        dropout=0.5)\n",
        "    \n",
        "    # Send model to `device` (GPU/CPU)\n",
        "    cnn_model.to(device)\n",
        "\n",
        "    # Instantiate Adadelta optimizer\n",
        "    optimizer = optim.Adadelta(cnn_model.parameters(),\n",
        "                               lr=learning_rate,\n",
        "                               rho=0.95)\n",
        "\n",
        "    return cnn_model, optimizer"
      ],
      "execution_count": null,
      "outputs": []
    },
    {
      "cell_type": "markdown",
      "metadata": {
        "id": "tyWHu4sr55lU"
      },
      "source": [
        "### 3.3. Training Loop"
      ]
    },
    {
      "cell_type": "markdown",
      "metadata": {
        "id": "9iWapM27CVw3"
      },
      "source": [
        "For each epoch, the code below will perform a forward step to compute the *Cross Entropy* loss, a backward step to compute gradients and use the optimizer to update weights/parameters. At the end of each epoch, the loss on training data and the accuracy over the validation data will be printed to help us keep track of the model's performance. The code is heavily annotated with detailed explanations."
      ]
    },
    {
      "cell_type": "code",
      "metadata": {
        "id": "NaW2V4O225fS"
      },
      "source": [
        "import random\n",
        "import time\n",
        "\n",
        "# Specify loss function\n",
        "loss_fn = nn.CrossEntropyLoss()\n",
        "\n",
        "def set_seed(seed_value=42):\n",
        "    \"\"\"Set seed for reproducibility.\"\"\"\n",
        "\n",
        "    random.seed(seed_value)\n",
        "    np.random.seed(seed_value)\n",
        "    torch.manual_seed(seed_value)\n",
        "    torch.cuda.manual_seed_all(seed_value)\n",
        "\n",
        "def train(model, optimizer, train_dataloader, val_dataloader=None, epochs=10):\n",
        "    \"\"\"Train the CNN model.\"\"\"\n",
        "    \n",
        "    # Tracking best validation accuracy\n",
        "    best_accuracy = 0\n",
        "\n",
        "    # Start training loop\n",
        "    print(\"Start training...\\n\")\n",
        "    print(f\"{'Epoch':^7} | {'Train Loss':^12} | {'Val Loss':^10} | {\\\n",
        "    'Val Acc':^9} | {'Elapsed':^9}\")\n",
        "    print(\"-\"*60)\n",
        "\n",
        "    for epoch_i in range(epochs):\n",
        "        # =======================================\n",
        "        #               Training\n",
        "        # =======================================\n",
        "\n",
        "        # Tracking time and loss\n",
        "        t0_epoch = time.time()\n",
        "        total_loss = 0\n",
        "\n",
        "        # Put the model into the training mode\n",
        "        model.train()\n",
        "\n",
        "        for step, batch in enumerate(train_dataloader):\n",
        "            # Load batch to GPU\n",
        "            b_input_ids, b_labels = tuple(t.to(device) for t in batch)\n",
        "\n",
        "            # Zero out any previously calculated gradients\n",
        "            model.zero_grad()\n",
        "\n",
        "            # Perform a forward pass. This will return logits.\n",
        "            logits = model(b_input_ids)\n",
        "\n",
        "            # Compute loss and accumulate the loss values\n",
        "            loss = loss_fn(logits, b_labels)\n",
        "            total_loss += loss.item()\n",
        "\n",
        "            # Perform a backward pass to calculate gradients\n",
        "            loss.backward()\n",
        "\n",
        "            # Update parameters\n",
        "            optimizer.step()\n",
        "\n",
        "        # Calculate the average loss over the entire training data\n",
        "        avg_train_loss = total_loss / len(train_dataloader)\n",
        "\n",
        "        # =======================================\n",
        "        #               Evaluation\n",
        "        # =======================================\n",
        "        if val_dataloader is not None:\n",
        "            # After the completion of each training epoch, measure the model's\n",
        "            # performance on our validation set.\n",
        "            val_loss, val_accuracy = evaluate(model, val_dataloader)\n",
        "\n",
        "            # Track the best accuracy\n",
        "            if val_accuracy > best_accuracy:\n",
        "                best_accuracy = val_accuracy\n",
        "\n",
        "            # Print performance over the entire training data\n",
        "            time_elapsed = time.time() - t0_epoch\n",
        "            print(f\"{epoch_i + 1:^7} | {avg_train_loss:^12.6f} | {\\\n",
        "            val_loss:^10.6f} | {val_accuracy:^9.2f} | {time_elapsed:^9.2f}\")\n",
        "            \n",
        "    print(\"\\n\")\n",
        "    print(f\"Training complete! Best accuracy: {best_accuracy:.2f}%.\")\n",
        "\n",
        "def evaluate(model, val_dataloader):\n",
        "    \"\"\"After the completion of each training epoch, measure the model's\n",
        "    performance on our validation set.\n",
        "    \"\"\"\n",
        "    # Put the model into the evaluation mode. The dropout layers are disabled\n",
        "    # during the test time.\n",
        "    model.eval()\n",
        "\n",
        "    # Tracking variables\n",
        "    val_accuracy = []\n",
        "    val_loss = []\n",
        "\n",
        "    # For each batch in our validation set...\n",
        "    for batch in val_dataloader:\n",
        "        # Load batch to GPU\n",
        "        b_input_ids, b_labels = tuple(t.to(device) for t in batch)\n",
        "\n",
        "        # Compute logits\n",
        "        with torch.no_grad():\n",
        "            logits = model(b_input_ids)\n",
        "\n",
        "        # Compute loss\n",
        "        loss = loss_fn(logits, b_labels)\n",
        "        val_loss.append(loss.item())\n",
        "\n",
        "        # Get the predictions\n",
        "        preds = torch.argmax(logits, dim=1).flatten()\n",
        "\n",
        "        # Calculate the accuracy rate\n",
        "        accuracy = (preds == b_labels).cpu().numpy().mean() * 100\n",
        "        val_accuracy.append(accuracy)\n",
        "\n",
        "    # Compute the average accuracy and loss over the validation set.\n",
        "    val_loss = np.mean(val_loss)\n",
        "    val_accuracy = np.mean(val_accuracy)\n",
        "\n",
        "    return val_loss, val_accuracy"
      ],
      "execution_count": null,
      "outputs": []
    },
    {
      "cell_type": "markdown",
      "metadata": {
        "id": "iHgnBNo1ino_"
      },
      "source": [
        "## 4. Evaluation "
      ]
    },
    {
      "cell_type": "markdown",
      "metadata": {
        "id": "nU-FMtOYMx3F"
      },
      "source": [
        "In the original paper, the author tried different variations of the model.\n",
        "- **CNN-rand**: The baseline model where the embedding layer is randomly initialized and then updated during training.\n",
        "- **CNN-static**: A model with pretrained vectors. However, the embedding layer is freezed during training.\n",
        "- **CNN-non-static**: Same as above but the embedding layers are fine-tuned during training.\n",
        "\n",
        "We will experiment with all 3 variations and compare their performance. Below is the report of our results and the results in the original paper.\n",
        "\n",
        "|Model            |Kim's results  |Our results  |\n",
        "|:----------------|:-------------:|:-----------:|\n",
        "|CNN-rand         |76.1           |74.1        |\n",
        "|CNN-static       |81.0           |81.5         |\n",
        "|CNN-non-static   |81.5           |82.3         |\n",
        "\n",
        "\n"
      ]
    },
    {
      "cell_type": "code",
      "metadata": {
        "id": "NwYoPQuQnz97",
        "outputId": "2dbbba65-876e-410a-dec0-8b496865c75a",
        "colab": {
          "base_uri": "https://localhost:8080/"
        }
      },
      "source": [
        "# CNN-rand: Word vectors are randomly initialized.\n",
        "set_seed(42)\n",
        "cnn_rand, optimizer = initilize_model(vocab_size=len(word2idx),\n",
        "                                      embed_dim=300,\n",
        "                                      learning_rate=0.25,\n",
        "                                      dropout=0.5)\n",
        "train(cnn_rand, optimizer, train_dataloader, val_dataloader, epochs=20)"
      ],
      "execution_count": null,
      "outputs": [
        {
          "output_type": "stream",
          "name": "stdout",
          "text": [
            "Start training...\n",
            "\n",
            " Epoch  |  Train Loss  |  Val Loss  |  Val Acc  |  Elapsed \n",
            "------------------------------------------------------------\n",
            "   1    |   0.685476   |  0.651861  |   61.22   |   2.67   \n",
            "   2    |   0.624468   |  0.615144  |   66.04   |   1.57   \n",
            "   3    |   0.559012   |  0.575021  |   67.57   |   1.56   \n",
            "   4    |   0.489456   |  0.558582  |   70.39   |   1.56   \n",
            "   5    |   0.409995   |  0.545139  |   71.93   |   1.57   \n",
            "   6    |   0.340754   |  0.547920  |   70.57   |   1.57   \n",
            "   7    |   0.276044   |  0.529366  |   71.29   |   1.58   \n",
            "   8    |   0.221420   |  0.525620  |   73.20   |   1.57   \n",
            "   9    |   0.175291   |  0.559243  |   71.66   |   1.57   \n",
            "  10    |   0.142128   |  0.541397  |   73.29   |   1.57   \n",
            "  11    |   0.116149   |  0.557074  |   73.10   |   1.65   \n",
            "  12    |   0.096489   |  0.567927  |   74.10   |   1.66   \n",
            "  13    |   0.076263   |  0.593156  |   73.10   |   1.58   \n",
            "  14    |   0.066050   |  0.637299  |   71.65   |   1.58   \n",
            "  15    |   0.058042   |  0.619367  |   72.65   |   1.58   \n",
            "  16    |   0.048298   |  0.626124  |   73.65   |   1.58   \n",
            "  17    |   0.042273   |  0.647177  |   72.74   |   1.58   \n",
            "  18    |   0.035336   |  0.647942  |   72.38   |   1.58   \n",
            "  19    |   0.035536   |  0.648537  |   72.74   |   1.58   \n",
            "  20    |   0.031707   |  0.709008  |   73.93   |   1.59   \n",
            "\n",
            "\n",
            "Training complete! Best accuracy: 74.10%.\n"
          ]
        }
      ]
    },
    {
      "cell_type": "code",
      "metadata": {
        "id": "2r6KEatn6FqQ",
        "outputId": "99ca047d-9d5d-4216-fd20-ac66f0c861db",
        "colab": {
          "base_uri": "https://localhost:8080/"
        }
      },
      "source": [
        "# CNN-static: Use embeddind_fast to load fastText pretrained word vectors.\n",
        "set_seed(42)\n",
        "cnn_static, optimizer = initilize_model(pretrained_embedding=embeddings,\n",
        "                                        freeze_embedding=True,\n",
        "                                        learning_rate=0.25,\n",
        "                                        dropout=0.5)\n",
        "train(cnn_static, optimizer, train_dataloader, val_dataloader, epochs=20)"
      ],
      "execution_count": null,
      "outputs": [
        {
          "output_type": "stream",
          "name": "stdout",
          "text": [
            "Start training...\n",
            "\n",
            " Epoch  |  Train Loss  |  Val Loss  |  Val Acc  |  Elapsed \n",
            "------------------------------------------------------------\n",
            "   1    |   0.631564   |  0.536177  |   74.57   |   0.92   \n",
            "   2    |   0.500753   |  0.464617  |   79.66   |   0.78   \n",
            "   3    |   0.444290   |  0.445928  |   80.75   |   0.77   \n",
            "   4    |   0.397549   |  0.433489  |   80.93   |   0.78   \n",
            "   5    |   0.357537   |  0.431515  |   80.94   |   0.78   \n",
            "   6    |   0.315548   |  0.431678  |   79.84   |   0.77   \n",
            "   7    |   0.276134   |  0.426910  |   81.11   |   0.79   \n",
            "   8    |   0.235768   |  0.432290  |   81.29   |   0.77   \n",
            "   9    |   0.201406   |  0.482175  |   78.65   |   0.78   \n",
            "  10    |   0.162555   |  0.442933  |   81.02   |   0.77   \n",
            "  11    |   0.138555   |  0.454265  |   80.75   |   0.78   \n",
            "  12    |   0.113997   |  0.472363  |   80.84   |   0.78   \n",
            "  13    |   0.093692   |  0.493957  |   79.38   |   0.78   \n",
            "  14    |   0.079443   |  0.487628  |   80.66   |   0.78   \n",
            "  15    |   0.064189   |  0.497774  |   80.66   |   0.78   \n",
            "  16    |   0.057157   |  0.523518  |   80.57   |   0.78   \n",
            "  17    |   0.047393   |  0.517892  |   80.56   |   0.78   \n",
            "  18    |   0.041832   |  0.546314  |   80.30   |   0.78   \n",
            "  19    |   0.037545   |  0.542858  |   81.39   |   0.78   \n",
            "  20    |   0.032183   |  0.548054  |   81.47   |   0.79   \n",
            "\n",
            "\n",
            "Training complete! Best accuracy: 81.47%.\n"
          ]
        }
      ]
    },
    {
      "cell_type": "code",
      "metadata": {
        "id": "CE6H6xJ-VwN5",
        "outputId": "aeb29571-9f0e-4684-ff00-fc496d5c92f2",
        "colab": {
          "base_uri": "https://localhost:8080/"
        }
      },
      "source": [
        "# CNN-non-static: pretrained word vectors are fine-tuned during training.\n",
        "set_seed(42)\n",
        "cnn_non_static, optimizer = initilize_model(pretrained_embedding=embeddings,\n",
        "                                            freeze_embedding=False,\n",
        "                                            learning_rate=0.25,\n",
        "                                            dropout=0.5)\n",
        "train(cnn_non_static, optimizer, train_dataloader, val_dataloader, epochs=20)"
      ],
      "execution_count": null,
      "outputs": [
        {
          "output_type": "stream",
          "name": "stdout",
          "text": [
            "Start training...\n",
            "\n",
            " Epoch  |  Train Loss  |  Val Loss  |  Val Acc  |  Elapsed \n",
            "------------------------------------------------------------\n",
            "   1    |   0.630592   |  0.533324  |   74.66   |   2.49   \n",
            "   2    |   0.495733   |  0.458204  |   79.29   |   2.43   \n",
            "   3    |   0.431693   |  0.438798  |   80.56   |   2.44   \n",
            "   4    |   0.375908   |  0.421618  |   81.48   |   2.44   \n",
            "   5    |   0.327465   |  0.419217  |   81.56   |   2.46   \n",
            "   6    |   0.278496   |  0.422913  |   81.39   |   2.45   \n",
            "   7    |   0.230890   |  0.424322  |   81.74   |   2.45   \n",
            "   8    |   0.185776   |  0.433438  |   81.20   |   2.46   \n",
            "   9    |   0.148606   |  0.506748  |   78.66   |   2.47   \n",
            "  10    |   0.112597   |  0.461000  |   81.65   |   2.47   \n",
            "  11    |   0.089711   |  0.478678  |   81.65   |   2.48   \n",
            "  12    |   0.070236   |  0.502036  |   81.65   |   2.47   \n",
            "  13    |   0.053673   |  0.536923  |   81.11   |   2.47   \n",
            "  14    |   0.043098   |  0.543960  |   82.29   |   2.47   \n",
            "  15    |   0.034785   |  0.557531  |   82.20   |   2.47   \n",
            "  16    |   0.028672   |  0.597593  |   81.47   |   2.48   \n",
            "  17    |   0.023120   |  0.587526  |   82.01   |   2.48   \n",
            "  18    |   0.020140   |  0.610657  |   81.93   |   2.48   \n",
            "  19    |   0.019506   |  0.606979  |   81.65   |   2.49   \n",
            "  20    |   0.015052   |  0.620327  |   81.74   |   2.49   \n",
            "\n",
            "\n",
            "Training complete! Best accuracy: 82.29%.\n"
          ]
        }
      ]
    },
    {
      "cell_type": "markdown",
      "metadata": {
        "id": "Xjie11DyVokt"
      },
      "source": [
        "## 5. Test Model"
      ]
    },
    {
      "cell_type": "markdown",
      "metadata": {
        "id": "qGcys3S3snRP"
      },
      "source": [
        "Let's test our CNN-non-static model on some examples."
      ]
    },
    {
      "cell_type": "code",
      "metadata": {
        "id": "xjId-ZUcsL8A"
      },
      "source": [
        "def predict(text, model=cnn_non_static.to(\"cpu\"), max_len=62):\n",
        "    \"\"\"Predict probability that a review is positive.\"\"\"\n",
        "\n",
        "    # Tokenize, pad and encode text\n",
        "    tokens = word_tokenize(text.lower())\n",
        "    padded_tokens = tokens + ['<pad>'] * (max_len - len(tokens))\n",
        "    input_id = [word2idx.get(token, word2idx['<unk>']) for token in padded_tokens]\n",
        "\n",
        "    # Convert to PyTorch tensors\n",
        "    input_id = torch.tensor(input_id).unsqueeze(dim=0)\n",
        "\n",
        "    # Compute logits\n",
        "    logits = model.forward(input_id)\n",
        "\n",
        "    #  Compute probability\n",
        "    probs = F.softmax(logits, dim=1).squeeze(dim=0)\n",
        "\n",
        "    print(f\"This review is {probs[1] * 100:.2f}% positive.\")"
      ],
      "execution_count": null,
      "outputs": []
    },
    {
      "cell_type": "markdown",
      "metadata": {
        "id": "lNocWkoItlE7"
      },
      "source": [
        "Our model can easily regconize reviews with strong negative signals. On samples that have mixed feelings but positive sentiment overvall, our model also gets excellent results."
      ]
    },
    {
      "cell_type": "code",
      "metadata": {
        "id": "IV8L6ncWuzKZ",
        "outputId": "41a7a7ab-8686-45a5-abac-49e4362ce438",
        "colab": {
          "base_uri": "https://localhost:8080/"
        }
      },
      "source": [
        "predict(\"All of friends slept while watching this movie. But I really enjoyed it.\")\n",
        "predict(\"I have waited so long for this movie. I am now so satisfied and happy.\")\n",
        "predict(\"This movie is long and boring.\")\n",
        "predict(\"I don't like the ending.\")"
      ],
      "execution_count": null,
      "outputs": [
        {
          "output_type": "stream",
          "name": "stdout",
          "text": [
            "This review is 19.64% positive.\n",
            "This review is 98.44% positive.\n",
            "This review is 0.00% positive.\n",
            "This review is 4.29% positive.\n"
          ]
        }
      ]
    },
    {
      "cell_type": "markdown",
      "metadata": {
        "id": "SGSRjLpQtt4T"
      },
      "source": [
        "Plot accuracy and loss of the model\n",
        "\n",
        "\n",
        "\n"
      ]
    },
    {
      "cell_type": "code",
      "metadata": {
        "id": "eDaA83d-MARp",
        "outputId": "4eac343c-baff-44f3-c8e0-2a3d38699b9e",
        "colab": {
          "base_uri": "https://localhost:8080/"
        }
      },
      "source": [
        "!pip install skorch\n",
        "from skorch import NeuralNetClassifier\n",
        "from skorch.helper import predefined_split\n",
        "from skorch.callbacks import EarlyStopping, Checkpoint, LoadInitState\n",
        "from skorch.dataset import CVSplit, Dataset\n",
        "\n",
        "# Specify validation set\n",
        "val_dataset = Dataset(val_inputs, val_labels)\n",
        "\n",
        "# Specify callbacks and checkpoints\n",
        "cp = Checkpoint(monitor='valid_acc_best', dirname='exp1')\n",
        "callbacks = [\n",
        "    ('early_stop', EarlyStopping(monitor='valid_acc', patience=5, lower_is_better=False)),\n",
        "    cp\n",
        "]\n",
        "\n",
        "net = NeuralNetClassifier(\n",
        "    # Module\n",
        "    module=CNN_NLP,\n",
        "    module__pretrained_embedding=embeddings,\n",
        "    module__freeze_embedding=False,\n",
        "    module__dropout=0.5,\n",
        "    # Optimizer\n",
        "    criterion=nn.CrossEntropyLoss,\n",
        "    optimizer=optim.Adadelta,\n",
        "    optimizer__lr=0.25,\n",
        "    optimizer__rho=0.95,\n",
        "    # Others\n",
        "    max_epochs=20,\n",
        "    batch_size=50,\n",
        "    train_split=predefined_split(val_dataset),\n",
        "    iterator_train__shuffle=True,\n",
        "    warm_start=False,\n",
        "    callbacks=callbacks,\n",
        "    device=device\n",
        ")"
      ],
      "execution_count": null,
      "outputs": [
        {
          "output_type": "stream",
          "name": "stdout",
          "text": [
            "Looking in indexes: https://pypi.org/simple, https://us-python.pkg.dev/colab-wheels/public/simple/\n",
            "Collecting skorch\n",
            "  Downloading skorch-0.11.0-py3-none-any.whl (155 kB)\n",
            "\u001b[K     |████████████████████████████████| 155 kB 4.9 MB/s \n",
            "\u001b[?25hRequirement already satisfied: scikit-learn>=0.19.1 in /usr/local/lib/python3.7/dist-packages (from skorch) (1.0.2)\n",
            "Requirement already satisfied: numpy>=1.13.3 in /usr/local/lib/python3.7/dist-packages (from skorch) (1.21.6)\n",
            "Requirement already satisfied: scipy>=1.1.0 in /usr/local/lib/python3.7/dist-packages (from skorch) (1.4.1)\n",
            "Requirement already satisfied: tqdm>=4.14.0 in /usr/local/lib/python3.7/dist-packages (from skorch) (4.64.0)\n",
            "Requirement already satisfied: tabulate>=0.7.7 in /usr/local/lib/python3.7/dist-packages (from skorch) (0.8.9)\n",
            "Requirement already satisfied: joblib>=0.11 in /usr/local/lib/python3.7/dist-packages (from scikit-learn>=0.19.1->skorch) (1.1.0)\n",
            "Requirement already satisfied: threadpoolctl>=2.0.0 in /usr/local/lib/python3.7/dist-packages (from scikit-learn>=0.19.1->skorch) (3.1.0)\n",
            "Installing collected packages: skorch\n",
            "Successfully installed skorch-0.11.0\n"
          ]
        }
      ]
    },
    {
      "cell_type": "markdown",
      "metadata": {
        "id": "clAlmH6e0FJT"
      },
      "source": [
        "`skorch` also prints training results in a very nice table. My training loop in section 3 is inspired by this format. When model (checkpoints) are saved, you can see the `+` sign in column `cp`."
      ]
    },
    {
      "cell_type": "code",
      "metadata": {
        "id": "o2BOsaiJbRxK",
        "outputId": "28a4243b-dd2c-4a68-cd5e-efe3548b4b9e",
        "colab": {
          "base_uri": "https://localhost:8080/"
        }
      },
      "source": [
        "set_seed(42)\n",
        "history = net.fit(np.array(train_inputs), train_labels)\n",
        "\n",
        "valid_acc_best = np.max(net.history[:, 'valid_acc'])\n",
        "print(f\"Training complete! Best accuracy: {valid_acc_best * 100:.2f}%\")"
      ],
      "execution_count": null,
      "outputs": [
        {
          "output_type": "stream",
          "name": "stdout",
          "text": [
            "  epoch    train_loss    valid_acc    valid_loss    cp     dur\n",
            "-------  ------------  -----------  ------------  ----  ------\n",
            "      1        \u001b[36m0.6307\u001b[0m       \u001b[32m0.7479\u001b[0m        \u001b[35m0.5336\u001b[0m     +  2.6498\n",
            "      2        \u001b[36m0.4957\u001b[0m       \u001b[32m0.7938\u001b[0m        \u001b[35m0.4571\u001b[0m     +  2.6030\n",
            "      3        \u001b[36m0.4317\u001b[0m       \u001b[32m0.8051\u001b[0m        \u001b[35m0.4379\u001b[0m     +  2.6071\n",
            "      4        \u001b[36m0.3759\u001b[0m       \u001b[32m0.8163\u001b[0m        \u001b[35m0.4208\u001b[0m     +  2.6105\n",
            "      5        \u001b[36m0.3275\u001b[0m       0.8154        \u001b[35m0.4183\u001b[0m        2.6138\n",
            "      6        \u001b[36m0.2784\u001b[0m       \u001b[32m0.8172\u001b[0m        0.4238     +  2.6171\n",
            "      7        \u001b[36m0.2309\u001b[0m       0.8172        0.4238        2.6138\n",
            "      8        \u001b[36m0.1858\u001b[0m       0.8116        0.4334        2.6026\n",
            "      9        \u001b[36m0.1486\u001b[0m       0.7873        0.5101        2.5993\n",
            "     10        \u001b[36m0.1126\u001b[0m       0.8163        0.4621        2.5953\n",
            "Stopping since valid_acc has not improved in the last 5 epochs.\n",
            "Training complete! Best accuracy: 81.72%\n"
          ]
        }
      ]
    },
    {
      "cell_type": "code",
      "source": [
        "import matplotlib.pyplot as plt\n",
        "\n",
        "train_loss = history.history[:, 'train_loss']\n",
        "valid_loss = history.history[:, 'valid_loss']\n",
        "\n",
        "plt.plot(train_loss, 'o-', label='training')\n",
        "plt.plot(valid_loss, 'o-', label='validation')\n",
        "plt.legend()\n",
        "plt.show()"
      ],
      "metadata": {
        "colab": {
          "base_uri": "https://localhost:8080/",
          "height": 265
        },
        "id": "IF2RF3b8numt",
        "outputId": "447f4615-5c07-46e0-e8cf-975c30567f60"
      },
      "execution_count": null,
      "outputs": [
        {
          "output_type": "display_data",
          "data": {
            "text/plain": [
              "<Figure size 432x288 with 1 Axes>"
            ],
            "image/png": "[encoded data removed]"
          },
          "metadata": {
            "needs_background": "light"
          }
        }
      ]
    },
    {
      "cell_type": "markdown",
      "metadata": {
        "id": "exMEBZWO1BXy"
      },
      "source": [
        "As Deep Learning model can overfit the training data, it's important to save our model when it fits our validation data just right. After training, we can load our model from the last checkpoint to make predictions."
      ]
    },
    {
      "cell_type": "code",
      "metadata": {
        "id": "YWFFXfMivS--",
        "outputId": "363c180f-2fa0-4714-d479-c2a0c2b86546",
        "colab": {
          "base_uri": "https://localhost:8080/"
        }
      },
      "source": [
        "# Load parameters from checkpoint\n",
        "net.load_params(checkpoint=cp)\n",
        "\n",
        "predict(\"All of friends slept while watching this movie. But I really enjoyed it.\", model=net)\n",
        "predict(\"I have waited so long for this movie. I am now so satisfied and happy.\", model=net)\n",
        "predict(\"This movie is long and boring.\", model=net)\n",
        "predict(\"I don't like the ending.\", model=net)"
      ],
      "execution_count": null,
      "outputs": [
        {
          "output_type": "stream",
          "name": "stdout",
          "text": [
            "This review is 48.40% positive.\n",
            "This review is 66.33% positive.\n",
            "This review is 0.32% positive.\n",
            "This review is 20.15% positive.\n"
          ]
        }
      ]
    }
  ]
}