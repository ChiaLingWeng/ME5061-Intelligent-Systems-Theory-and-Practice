{
 "cells": [
  {
   "cell_type": "markdown",
   "metadata": {
    "pycharm": {
     "name": "#%%\n"
    }
   },
   "source": [
    "# Real-Encoded Genetic Algorithm"
   ]
  },
  {
   "cell_type": "markdown",
   "metadata": {
    "pycharm": {
     "name": "#%% md\n"
    }
   },
   "source": [
    "## 1. Problem Definition\n",
    "\n",
    "Let considering the optimization problem:\n",
    "\n",
    "$$\\min_{x \\in \\mathbb{R}}{f(x)}=100 \\times (x_{1}^{2} - x_{2})+(1-x_{1})^{2}$$\n",
    "\n",
    "subject to following bounds and constraints:\n",
    "$$0 \\leq x_{1},x_{2} \\leq 5$$"
   ]
  },
  {
   "cell_type": "markdown",
   "metadata": {
    "pycharm": {
     "name": "#%% md\n"
    }
   },
   "source": [
    "## 2. Implementation\n",
    "\n",
    "In this assingment, we will try to implement a Real-value coded Genetic Algorithm from scratch to solve the above optimization problem.\n",
    "\n",
    "We first import the necessary libraries"
   ]
  },
  {
   "cell_type": "code",
   "execution_count": 4,
   "metadata": {
    "pycharm": {
     "name": "#%%\n"
    }
   },
   "outputs": [],
   "source": [
    "import numpy as np\n",
    "np.random.seed(42)"
   ]
  },
  {
   "cell_type": "markdown",
   "metadata": {},
   "source": [
    "We also define the initial fitness value for this optimization problem"
   ]
  },
  {
   "cell_type": "code",
   "execution_count": 5,
   "metadata": {},
   "outputs": [],
   "source": [
    "MIN_VALUE = 9999"
   ]
  },
  {
   "cell_type": "markdown",
   "metadata": {},
   "source": [
    "Moreover, we also make sure the bounding constraint for $x_1$ and $x_2$."
   ]
  },
  {
   "cell_type": "code",
   "execution_count": 12,
   "metadata": {},
   "outputs": [],
   "source": [
    "def check_constraints(x: list):\n",
    "    \"\"\"\n",
    "    Check constraints of x1 and x2\n",
    "    ---\n",
    "    TODO: return True if x1 and x2 sastify the contraints, otherwise, return False  \n",
    "    \"\"\"\n",
    "    # write your code below\n",
    "    if 0<=x[0]<=5 and 0<=x[1]<=5:\n",
    "        return True\n",
    "    else:\n",
    "        return False\n",
    "    "
   ]
  },
  {
   "cell_type": "markdown",
   "metadata": {},
   "source": [
    "Then, we initial the population by `init_population()`. The population will be a list that contains possible solutions. A particular solution is defined as a list of two element."
   ]
  },
  {
   "cell_type": "code",
   "execution_count": 20,
   "metadata": {
    "pycharm": {
     "name": "#%%\n"
    }
   },
   "outputs": [],
   "source": [
    "def init_population(num_pop: int):\n",
    "    \"\"\"\n",
    "    Initial the population\n",
    "    ---\n",
    "    TODO: Return a population of solutions\n",
    "    The population will be a list that contains possible solutions. \n",
    "    A particular solution is defined as a list of two element.\n",
    "    Hint: use np.random.uniform(low, high) to random x1, x2 in bounding range [low, high)\n",
    "    \"\"\"\n",
    "    # write your code below\n",
    "    pop_list = list()\n",
    "    for i in range(num_pop):\n",
    "        pop_list.append(np.random.uniform(low=0,high=5+1e-8,size=2).tolist())\n",
    "        \n",
    "    return pop_list\n",
    "    "
   ]
  },
  {
   "cell_type": "code",
   "execution_count": 21,
   "metadata": {
    "pycharm": {
     "name": "#%%\n"
    },
    "scrolled": true
   },
   "outputs": [
    {
     "data": {
      "text/plain": [
       "[[3.03772426558264, 0.8526206201416989],\n",
       " [0.3252579655769135, 4.744427695755522],\n",
       " [4.828160175029117, 4.041986748666279],\n",
       " [1.523068848912991, 0.4883605710086405],\n",
       " [3.4211651394031146, 2.200762473099531],\n",
       " [0.6101911754442765, 2.47588455550812]]"
      ]
     },
     "execution_count": 21,
     "metadata": {},
     "output_type": "execute_result"
    }
   ],
   "source": [
    "# test the function\n",
    "pop = init_population(6)\n",
    "pop"
   ]
  },
  {
   "cell_type": "markdown",
   "metadata": {},
   "source": [
    "We define `fitness()` function that take a list of two elements as input, and return the fitness score."
   ]
  },
  {
   "cell_type": "code",
   "execution_count": 24,
   "metadata": {
    "pycharm": {
     "name": "#%%\n"
    }
   },
   "outputs": [],
   "source": [
    "def fitness(x: list):\n",
    "    \"\"\"\n",
    "    Fitness function\n",
    "    ---\n",
    "    TODO: return the fitness score\n",
    "    Hint: use define of f(x)\n",
    "    \"\"\"\n",
    "    # write your code below\n",
    "    fitness_score = 100*(x[0]**2-x[1])+(1-x[0])**2\n",
    "    return fitness_score\n",
    "    "
   ]
  },
  {
   "cell_type": "code",
   "execution_count": 27,
   "metadata": {},
   "outputs": [
    {
     "data": {
      "text/plain": [
       "841.6671295393334"
      ]
     },
     "execution_count": 27,
     "metadata": {},
     "output_type": "execute_result"
    }
   ],
   "source": [
    "# test the function\n",
    "# pop[0]\n",
    "fitness(pop[0])"
   ]
  },
  {
   "cell_type": "markdown",
   "metadata": {},
   "source": [
    "Like the tutorial, we also use the roulette selection method to choose parents."
   ]
  },
  {
   "cell_type": "code",
   "execution_count": 28,
   "metadata": {
    "pycharm": {
     "name": "#%%\n"
    }
   },
   "outputs": [],
   "source": [
    "def roulette_selection(pop: list, scores: list, n: int):\n",
    "    # compute the sum of fitness\n",
    "    fitness_total = float(sum(scores))\n",
    "    # compute probability of fitness\n",
    "    fitness_prob = [f / fitness_total for f in scores]\n",
    "    # compute cumulative probability of fitness\n",
    "    fitness_cum_prob = [sum(fitness_prob[: i + 1]) for i in range(len(fitness_prob))]\n",
    "    # list of selected parents\n",
    "    pop_selected = []\n",
    "    for _ in range(n):\n",
    "        r = np.random.uniform()\n",
    "        for i, p in enumerate(pop):\n",
    "            if r <= fitness_cum_prob[i]:\n",
    "                pop_selected.append(p)\n",
    "                break\n",
    "    return pop_selected"
   ]
  },
  {
   "cell_type": "markdown",
   "metadata": {},
   "source": [
    "For reproduction step, we apply the **blend crossover** function. Beside crossover rate `pc`, the fucntion has one more hyperparameter $\\alpha \\in [0,1] \\in \\mathbb{R}$ to compute blending weight."
   ]
  },
  {
   "cell_type": "code",
   "execution_count": 35,
   "metadata": {
    "pycharm": {
     "name": "#%%\n"
    }
   },
   "outputs": [],
   "source": [
    "def crossover(p1: list, p2: list, pc: float, alpha: float):\n",
    "    \"\"\"\n",
    "    Blend crossover function for real-coded GA\n",
    "    ---\n",
    "    TODO: if the random value r smaller than pc, do the blend crossover as describe in the lecture slide\n",
    "    \"\"\"\n",
    "    # children are copies of parents by default\n",
    "    c1, c2 = p1.copy(), p2.copy()\n",
    "    # check for recombination\n",
    "    r = np.random.rand() \n",
    "    # write the code below\n",
    "    if r < pc:\n",
    "        w = (1+2*alpha)*r-alpha\n",
    "        c1 = [(1-w)*p1[0]+w*p2[0],(1-w)*p1[1]+w*p2[1]]\n",
    "        c2 = [(1-w)*p2[0]+w*p1[0],(1-w)*p2[1]+w*p1[1]]\n",
    "    \n",
    "    return c1, c2"
   ]
  },
  {
   "cell_type": "code",
   "execution_count": 38,
   "metadata": {
    "pycharm": {
     "name": "#%%\n"
    }
   },
   "outputs": [
    {
     "name": "stdout",
     "output_type": "stream",
     "text": [
      "[1.5726234532745509, 2.9547258915753547]\n",
      "[1.790358777885003, 2.6423224243218657]\n"
     ]
    }
   ],
   "source": [
    "# test the function\n",
    "#print(\"before\",c1,c2)\n",
    "c1, c2 = crossover(pop[0], pop[1], 0.6, 0.5)\n",
    "print(c1)\n",
    "print(c2)"
   ]
  },
  {
   "cell_type": "markdown",
   "metadata": {},
   "source": [
    "For the `mutation()` function is **random mutation** as described in lecture slide with one more hyperparameter **delta**."
   ]
  },
  {
   "cell_type": "code",
   "execution_count": 39,
   "metadata": {
    "pycharm": {
     "name": "#%%\n"
    }
   },
   "outputs": [],
   "source": [
    "def mutation(p1: list, pm: float, delta: float):\n",
    "    \"\"\"\n",
    "    Random mutation function for real-encoded GA\n",
    "    ---\n",
    "    TODO: if the random value r smaller than pm, do the random mutation as describe in the lecture slide. \n",
    "    NOTICE: before return the mutation result, please check the constraints\n",
    "    If the mutation result is not sastify the constraint, return original input p1\n",
    "    \"\"\"\n",
    "    c1 = p1.copy()\n",
    "    for i in range(len(c1)):\n",
    "        r = np.random.rand() \n",
    "        # write your code here\n",
    "        if r < pm:\n",
    "            c1[i] = c1[i]+(r-0.5)*delta\n",
    "        \n",
    "    # check the constraints\n",
    "    # if c1 meets the constraints, return c1, else return p1\n",
    "    # write your code below\n",
    "    if check_constraints(c1):\n",
    "        return c1\n",
    "    else:\n",
    "        return p1\n",
    "    "
   ]
  },
  {
   "cell_type": "code",
   "execution_count": 40,
   "metadata": {
    "pycharm": {
     "name": "#%%\n"
    }
   },
   "outputs": [
    {
     "data": {
      "text/plain": [
       "[3.03772426558264, 0.222329531192753]"
      ]
     },
     "execution_count": 40,
     "metadata": {},
     "output_type": "execute_result"
    }
   ],
   "source": [
    "# test the function\n",
    "mutation(pop[0], 0.5, 2)"
   ]
  },
  {
   "cell_type": "markdown",
   "metadata": {
    "pycharm": {
     "name": "#%%\n"
    }
   },
   "source": [
    "Now, we can tie all of this together into a function named `genetic_algorithm()` that takes the name of the objective function and the hyperparameters of the search, and returns the best solution found during the search."
   ]
  },
  {
   "cell_type": "code",
   "execution_count": 47,
   "metadata": {},
   "outputs": [],
   "source": [
    "def genetic_algorithm(fitness_func: callable, num_iters: int, num_pop: int, pc: float, pm: float, alpha: float, delta: float):\n",
    "    \"\"\"\n",
    "    @param fitness_func: the fitness function\n",
    "    @param num_iters: the number of generation\n",
    "    @param num_pop: the number of population\n",
    "    @param pc: the crossover probability\n",
    "    @param pm: the mutation probability\n",
    "    @param alpha: the hyperparameter for blend crossover function\n",
    "    @param delta: the hyperparameter for random mutation function\n",
    "    \"\"\"\n",
    "    # initial population of random bitstring with corresponding fitness score\n",
    "    # write your code below\n",
    "    \n",
    "    pop = init_population(num_pop)\n",
    "    \n",
    "    # keep track of best solution\n",
    "    best, best_eval = pop[0], MIN_VALUE\n",
    "    \n",
    "    # enumerate generations\n",
    "    for it in range(num_iters):\n",
    "        # evaluate all candidates in the population\n",
    "        scores = [fitness_func(c) for c in pop]\n",
    "        \n",
    "        # check for new best solution\n",
    "        for i in range(num_pop):\n",
    "            # wrtie your code below\n",
    "            if scores[i] < best_eval:\n",
    "                best, best_eval = pop[i], scores[i]\n",
    "            \n",
    "        # select parents\n",
    "        selected = roulette_selection(pop, scores, num_pop)\n",
    "\n",
    "        # create the next generation\n",
    "        children = []\n",
    "        for i in range(0, num_pop, 2):\n",
    "            # get selected parents in pairs\n",
    "            # write your code below\n",
    "            p1, p2 = selected[i], selected[i+1]\n",
    "            # crossover and mutation\n",
    "            # write your code below\n",
    "            for c in crossover(p1, p2, pc, alpha):\n",
    "                mutation(c, pm, delta)\n",
    "                children.append(c)\n",
    "            \n",
    "        # replace old population with new one that having high scores\n",
    "        pop = children\n",
    "    return best, best_eval"
   ]
  },
  {
   "cell_type": "markdown",
   "metadata": {},
   "source": [
    "Now, try the test case."
   ]
  },
  {
   "cell_type": "code",
   "execution_count": 48,
   "metadata": {},
   "outputs": [],
   "source": [
    "# define number of generations for finding the solution\n",
    "n_iters = 10\n",
    "# define the population size\n",
    "n_pop = 6\n",
    "# define crossover rate\n",
    "pc = 0.5\n",
    "# define mutation rate\n",
    "pm = 0.001\n",
    "#\n",
    "alpha = 0.25\n",
    "# \n",
    "delta = 2.5"
   ]
  },
  {
   "cell_type": "code",
   "execution_count": 49,
   "metadata": {},
   "outputs": [
    {
     "name": "stdout",
     "output_type": "stream",
     "text": [
      "Done!\n",
      "[x1, x2]: [0.597971230887451, 3.5662239432474228], f([x1, x2]) = -320.7038078966428\n"
     ]
    }
   ],
   "source": [
    "# perform the genetic algorithm search\n",
    "best, score = genetic_algorithm(fitness, n_iters, n_pop, pc, pm, alpha, delta)\n",
    "print('Done!')\n",
    "print(f'[x1, x2]: {best}, f([x1, x2]) = {score}')"
   ]
  },
  {
   "cell_type": "markdown",
   "metadata": {},
   "source": [
    "Now, setup your own hyperpamameters to get the possible results you can obtain"
   ]
  },
  {
   "cell_type": "code",
   "execution_count": 67,
   "metadata": {
    "scrolled": true
   },
   "outputs": [
    {
     "name": "stdout",
     "output_type": "stream",
     "text": [
      "Done!\n",
      "[x1, x2]: [0.8050131254356643, 4.992883613894289], f([x1, x2]) = -434.4457282958069\n"
     ]
    }
   ],
   "source": [
    "# TODO: define hyperparameters by yourself to get the best result\n",
    "# Write your code from here\n",
    "\n",
    "# increase population size & number of generations\n",
    "n_iters = 50\n",
    "n_pop = 20\n",
    "best, score = genetic_algorithm(fitness, n_iters, n_pop, pc, pm, alpha, delta)\n",
    "print('Done!')\n",
    "print(f'[x1, x2]: {best}, f([x1, x2]) = {score}')\n"
   ]
  },
  {
   "cell_type": "code",
   "execution_count": 73,
   "metadata": {},
   "outputs": [
    {
     "name": "stdout",
     "output_type": "stream",
     "text": [
      "Done!\n",
      "[x1, x2]: [0.3557702502372908, 4.973227697909967], f([x1, x2]) = -484.2504907251269\n"
     ]
    }
   ],
   "source": [
    "n_iters = 100\n",
    "n_pop = 100\n",
    "best, score = genetic_algorithm(fitness, n_iters, n_pop, pc, pm, alpha, delta)\n",
    "print('Done!')\n",
    "print(f'[x1, x2]: {best}, f([x1, x2]) = {score}')"
   ]
  },
  {
   "cell_type": "code",
   "execution_count": 77,
   "metadata": {},
   "outputs": [
    {
     "name": "stdout",
     "output_type": "stream",
     "text": [
      "Done!\n",
      "[x1, x2]: [0.013686906152519815, 4.919594259844008], f([x1, x2]) = -490.967879325303\n"
     ]
    }
   ],
   "source": [
    "pm = 0.01\n",
    "n_iters = 100\n",
    "n_pop = 100\n",
    "best, score = genetic_algorithm(fitness, n_iters, n_pop, pc, pm, alpha, delta)\n",
    "print('Done!')\n",
    "print(f'[x1, x2]: {best}, f([x1, x2]) = {score}')\n"
   ]
  },
  {
   "cell_type": "code",
   "execution_count": 83,
   "metadata": {},
   "outputs": [],
   "source": [
    "def rank_based_selection(pop: list, scores: list, n: int):\n",
    "    fitness_total = float(sum(scores))\n",
    "    fitness_prob = [f / fitness_total for f in scores]\n",
    "    num = len(fitness_prob)\n",
    "    rank_sum = num*(num+1)/2\n",
    "    # re-arrange population list using rank order\n",
    "    sorted_index = np.argsort(fitness_prob)\n",
    "    pop = [pop[i] for i in sorted_index]\n",
    "\n",
    "    new_fitness_prob = [i / rank_sum for i in range(1,num+1)]\n",
    "\n",
    "    \n",
    "    fitness_cum_prob = [sum(new_fitness_prob[: i + 1]) for i in range(len(new_fitness_prob))]\n",
    "    # list of selected parents\n",
    "    pop_selected = []\n",
    "    for _ in range(n):\n",
    "        r = np.random.uniform()\n",
    "        for i, p in enumerate(pop):\n",
    "            if r <= fitness_cum_prob[i]:\n",
    "                pop_selected.append(p)\n",
    "                break\n",
    "    return pop_selected"
   ]
  },
  {
   "cell_type": "code",
   "execution_count": 84,
   "metadata": {},
   "outputs": [],
   "source": [
    "def new_genetic_algorithm(fitness_func: callable, num_iters: int, num_pop: int, pc: float, pm: float, alpha: float, delta: float):\n",
    "    \"\"\"\n",
    "    @param fitness_func: the fitness function\n",
    "    @param num_iters: the number of generation\n",
    "    @param num_pop: the number of population\n",
    "    @param pc: the crossover probability\n",
    "    @param pm: the mutation probability\n",
    "    @param alpha: the hyperparameter for blend crossover function\n",
    "    @param delta: the hyperparameter for random mutation function\n",
    "    \"\"\"\n",
    "    # initial population of random bitstring with corresponding fitness score\n",
    "    # write your code below\n",
    "    \n",
    "    pop = init_population(num_pop)\n",
    "    \n",
    "    # keep track of best solution\n",
    "    best, best_eval = pop[0], MIN_VALUE\n",
    "    \n",
    "    # enumerate generations\n",
    "    for it in range(num_iters):\n",
    "        # evaluate all candidates in the population\n",
    "        scores = [fitness_func(c) for c in pop]\n",
    "        \n",
    "        # check for new best solution\n",
    "        for i in range(num_pop):\n",
    "            # wrtie your code below\n",
    "            if scores[i] < best_eval:\n",
    "                best, best_eval = pop[i], scores[i]\n",
    "            \n",
    "        # select parents\n",
    "        selected = rank_based_selection(pop, scores, num_pop)\n",
    "\n",
    "        # create the next generation\n",
    "        children = []\n",
    "        for i in range(0, num_pop, 2):\n",
    "            # get selected parents in pairs\n",
    "            # write your code below\n",
    "            p1, p2 = selected[i], selected[i+1]\n",
    "            # crossover and mutation\n",
    "            # write your code below\n",
    "            for c in crossover(p1, p2, pc, alpha):\n",
    "                mutation(c, pm, delta)\n",
    "                children.append(c)\n",
    "            \n",
    "        # replace old population with new one that having high scores\n",
    "        pop = children\n",
    "    return best, best_eval"
   ]
  },
  {
   "cell_type": "code",
   "execution_count": 94,
   "metadata": {},
   "outputs": [
    {
     "name": "stdout",
     "output_type": "stream",
     "text": [
      "Done!\n",
      "[x1, x2]: [0.02031677070504383, 4.993930263021962], f([x1, x2]) = -498.3919699552462\n"
     ]
    }
   ],
   "source": [
    "pm = 0.001\n",
    "n_iters = 100\n",
    "n_pop = 100\n",
    "best, score = new_genetic_algorithm(fitness, n_iters, n_pop, pc, pm, alpha, delta)\n",
    "print('Done!')\n",
    "print(f'[x1, x2]: {best}, f([x1, x2]) = {score}')"
   ]
  },
  {
   "cell_type": "code",
   "execution_count": null,
   "metadata": {},
   "outputs": [],
   "source": []
  },
  {
   "cell_type": "code",
   "execution_count": null,
   "metadata": {},
   "outputs": [],
   "source": []
  }
 ],
 "metadata": {
  "kernelspec": {
   "display_name": "Python 3 (ipykernel)",
   "language": "python",
   "name": "python3"
  },
  "language_info": {
   "codemirror_mode": {
    "name": "ipython",
    "version": 3
   },
   "file_extension": ".py",
   "mimetype": "text/x-python",
   "name": "python",
   "nbconvert_exporter": "python",
   "pygments_lexer": "ipython3",
   "version": "3.9.7"
  }
 },
 "nbformat": 4,
 "nbformat_minor": 1
}
